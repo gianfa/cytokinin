{
 "cells": [
  {
   "cell_type": "markdown",
   "metadata": {},
   "source": [
    "# Data Exporting"
   ]
  },
  {
   "cell_type": "code",
   "execution_count": null,
   "metadata": {},
   "outputs": [],
   "source": [
    "!pwd"
   ]
  },
  {
   "cell_type": "code",
   "execution_count": null,
   "metadata": {},
   "outputs": [],
   "source": [
    "!pip uninstall cytokinin -y"
   ]
  },
  {
   "cell_type": "code",
   "execution_count": null,
   "metadata": {},
   "outputs": [],
   "source": [
    "!pip install ./../cytokinin"
   ]
  },
  {
   "cell_type": "code",
   "execution_count": null,
   "metadata": {},
   "outputs": [],
   "source": [
    "import os\n",
    "import json\n",
    "import numpy as np\n",
    "import pandas as pd\n",
    "from pathlib import Path"
   ]
  },
  {
   "cell_type": "code",
   "execution_count": null,
   "metadata": {},
   "outputs": [],
   "source": [
    "import logging\n",
    "logging.basicConfig()\n",
    "log = logging.getLogger()\n",
    "log.setLevel(logging.INFO)"
   ]
  },
  {
   "cell_type": "code",
   "execution_count": null,
   "metadata": {},
   "outputs": [],
   "source": [
    "import cytokinin as ck\n",
    "from cytokinin.data import take_data"
   ]
  },
  {
   "cell_type": "code",
   "execution_count": null,
   "metadata": {},
   "outputs": [],
   "source": [
    "root = Path('./../') # quite the same as str"
   ]
  },
  {
   "cell_type": "code",
   "execution_count": null,
   "metadata": {},
   "outputs": [],
   "source": [
    "# Set an example dir for images files\n",
    "MOCKS = root.joinpath('./cytokinin/cytokinin/tests/mocks/')\n",
    "IMGS = MOCKS/'imgs' # this is another Path object\n",
    "os.listdir(str(IMGS))"
   ]
  },
  {
   "cell_type": "markdown",
   "metadata": {},
   "source": [
    "## Expell"
   ]
  },
  {
   "cell_type": "code",
   "execution_count": null,
   "metadata": {},
   "outputs": [],
   "source": [
    "c = take_data('images').store_filesnames_from_folder(IMGS/'dog')\n",
    "c.filesnames.head()"
   ]
  },
  {
   "cell_type": "code",
   "execution_count": null,
   "metadata": {},
   "outputs": [],
   "source": [
    "path = str(MOCKS/'bin') #create this folder yourself in order to see what happen\n",
    "inthisnewfolder = 'new_images'\n",
    "namefilesas = None\n",
    "c.expell_to(path, inthisnewfolder, namefilesas)"
   ]
  },
  {
   "cell_type": "markdown",
   "metadata": {},
   "source": [
    "expell_to: namefilesas 'data'"
   ]
  },
  {
   "cell_type": "code",
   "execution_count": null,
   "metadata": {},
   "outputs": [],
   "source": [
    "path = str(MOCKS/'bin')\n",
    "inthisnewfolder = 'new_images2'\n",
    "namefilesas = 'data'\n",
    "c.expell_to(path, inthisnewfolder, namefilesas)"
   ]
  },
  {
   "cell_type": "markdown",
   "metadata": {},
   "source": [
    "expell_to: namefilesas 'folder'"
   ]
  },
  {
   "cell_type": "code",
   "execution_count": null,
   "metadata": {},
   "outputs": [],
   "source": [
    "path = str(MOCKS/'bin')\n",
    "inthisnewfolder = 'new_images3'\n",
    "namefilesas = 'folder'\n",
    "c.expell_to(path, inthisnewfolder, namefilesas)"
   ]
  },
  {
   "cell_type": "markdown",
   "metadata": {},
   "source": [
    "## Generate a ml df"
   ]
  },
  {
   "cell_type": "markdown",
   "metadata": {},
   "source": [
    "#### with labels as category names"
   ]
  },
  {
   "cell_type": "code",
   "execution_count": null,
   "metadata": {},
   "outputs": [],
   "source": [
    "dands.filesnames_to_ml_df()"
   ]
  },
  {
   "cell_type": "markdown",
   "metadata": {},
   "source": [
    "#### with labels as category numbers"
   ]
  },
  {
   "cell_type": "code",
   "execution_count": null,
   "metadata": {},
   "outputs": [],
   "source": [
    "dands.filesnames_to_ml_df(y_as='classnum').copy()"
   ]
  },
  {
   "cell_type": "markdown",
   "metadata": {},
   "source": [
    "#### with labels as 1-hot encoded"
   ]
  },
  {
   "cell_type": "code",
   "execution_count": null,
   "metadata": {},
   "outputs": [],
   "source": [
    "dands.filesnames_to_ml_df(y_as='1hot').copy()"
   ]
  },
  {
   "cell_type": "markdown",
   "metadata": {},
   "source": [
    "## Export"
   ]
  },
  {
   "cell_type": "markdown",
   "metadata": {},
   "source": [
    "### to Keras ImageDataGenerator"
   ]
  },
  {
   "cell_type": "markdown",
   "metadata": {},
   "source": [
    "Let's try to export a not labeled data, equal a single class data, beacuse cytokinin assumes that if you're sure to ask not labeled data it means they are all from a single class."
   ]
  },
  {
   "cell_type": "code",
   "execution_count": null,
   "metadata": {},
   "outputs": [],
   "source": [
    "# Create a Data from two roots: dogs and stones\n",
    "dogs = take_data('images').store_filesnames_from_folder(IMGS.joinpath('dog'))\n",
    "stones = take_data('images').store_filesnames_from_folder(IMGS.joinpath('stone'))\n",
    "dands = dogs.copy().add_from_data(stones)\n",
    "print(dands)"
   ]
  },
  {
   "cell_type": "code",
   "execution_count": null,
   "metadata": {},
   "outputs": [],
   "source": [
    "dands.export_to_keras()"
   ]
  },
  {
   "cell_type": "markdown",
   "metadata": {},
   "source": [
    "Now use well labeled files (2 classes)"
   ]
  },
  {
   "cell_type": "code",
   "execution_count": null,
   "metadata": {},
   "outputs": [],
   "source": [
    "# Create a Data from two roots: dogs and stones\n",
    "dogs = take_data('images').store_filesnames_from_folder(IMGS.joinpath('dog'))\n",
    "stones = take_data('images').store_filesnames_from_folder(IMGS.joinpath('stone'))\n",
    "dands = dogs.copy().add_from_data(stones)\n",
    "\n",
    "csv_url = MOCKS/'labels'/'dogsandstones_labes.csv'\n",
    "dands.label_from_csv(csv_url, col='Y')\n",
    "print(dands)"
   ]
  },
  {
   "cell_type": "code",
   "execution_count": null,
   "metadata": {},
   "outputs": [],
   "source": [
    "idg = dands.export_to_keras()\n",
    "idg"
   ]
  },
  {
   "cell_type": "markdown",
   "metadata": {},
   "source": [
    "it also accepts arguments"
   ]
  },
  {
   "cell_type": "code",
   "execution_count": null,
   "metadata": {},
   "outputs": [],
   "source": [
    "idg_args = {\n",
    "    'rescale': 1./255,\n",
    "    'shear_range': 0.2,\n",
    "    'zoom_range': 0.2,\n",
    "    'horizontal_flip': True\n",
    "}\n",
    "ke_gen = dands.export_to_keras(imagedatagenerator_args=idg_args)"
   ]
  },
  {
   "cell_type": "markdown",
   "metadata": {},
   "source": [
    "##### Fit a Keras model"
   ]
  },
  {
   "cell_type": "code",
   "execution_count": null,
   "metadata": {},
   "outputs": [],
   "source": [
    "### This part is for preparing a Keras model ####\n",
    "\n",
    "from tensorflow.keras.models import Sequential\n",
    "from tensorflow.keras.layers import Dense, Dropout, Activation, Flatten, Conv2D, MaxPooling2D\n",
    "from tensorflow.keras.optimizers import SGD, Adam\n",
    "\n",
    "n_classes = 2\n",
    "\n",
    "### Model definition ###\n",
    "model = Sequential()\n",
    "model.add( Dense(100, activation='relu', input_shape=(256,256,3)) )\n",
    "model.add( Dense(60, activation='relu') )\n",
    "model.add( Dense(10, activation='relu') )\n",
    "model.add( Flatten() )\n",
    "model.add( Dense(n_classes, activation='softmax') )\n",
    "\n",
    "### Compile ###\n",
    "sgd = SGD(lr=1e-4, decay=1e-6, momentum=0.9, nesterov=True)\n",
    "model.compile(loss='categorical_crossentropy', optimizer=sgd, metrics=['accuracy'])\n",
    "#imsize = (64,64)\n"
   ]
  },
  {
   "cell_type": "markdown",
   "metadata": {},
   "source": [
    "....and fit!"
   ]
  },
  {
   "cell_type": "code",
   "execution_count": null,
   "metadata": {
    "scrolled": true
   },
   "outputs": [],
   "source": [
    "### Fit ###\n",
    "model.fit_generator(\n",
    "        idg,\n",
    "        #steps_per_epoch=20,\n",
    "        epochs=3,\n",
    "        #validation_data=validation_generator,\n",
    "        validation_steps=1)"
   ]
  },
  {
   "cell_type": "markdown",
   "metadata": {},
   "source": [
    "#### to FastAI"
   ]
  },
  {
   "cell_type": "code",
   "execution_count": null,
   "metadata": {},
   "outputs": [],
   "source": [
    "# Create a Data from two roots: dogs and stones\n",
    "dogs = take_data('images').store_filesnames_from_folder(IMGS.joinpath('dog'))\n",
    "stones = take_data('images').store_filesnames_from_folder(IMGS.joinpath('stone'))\n",
    "dands = dogs.copy().add_from_data(stones)\n",
    "\n",
    "csv_url = MOCKS/'labels'/'dogsandstones_labes.csv'\n",
    "dands.label_from_csv(csv_url, col='Y')\n",
    "print(dands)"
   ]
  },
  {
   "cell_type": "code",
   "execution_count": null,
   "metadata": {},
   "outputs": [],
   "source": [
    "from fastai.vision import ImageDataBunch,ImageList\n",
    "from fastai.vision.transform import get_transforms\n",
    "tfms_arg = get_transforms() # https://docs.fast.ai/vision.transform.html\n",
    "idb_args = {\n",
    "    'ds_tfms': tfms_arg,\n",
    "    'valid_pct': 0,\n",
    "    'bs': 40,\n",
    "#     'label_col': None, #label column\n",
    "}\n",
    "\n",
    "fastai_idb = dands.export_to_fastAI(imagedatabunch_args=idb_args)\n",
    "fastai_idb"
   ]
  },
  {
   "cell_type": "code",
   "execution_count": null,
   "metadata": {},
   "outputs": [],
   "source": [
    "type(fastai_idb)"
   ]
  },
  {
   "cell_type": "code",
   "execution_count": null,
   "metadata": {},
   "outputs": [],
   "source": [
    "fastai_idb.open( fastai_idb.items[1] )"
   ]
  },
  {
   "cell_type": "markdown",
   "metadata": {},
   "source": [
    "nice doggo"
   ]
  },
  {
   "cell_type": "markdown",
   "metadata": {},
   "source": [
    "#### to Pytorch"
   ]
  },
  {
   "cell_type": "markdown",
   "metadata": {},
   "source": [
    "... coming soon"
   ]
  },
  {
   "cell_type": "code",
   "execution_count": null,
   "metadata": {},
   "outputs": [],
   "source": []
  }
 ],
 "metadata": {
  "kernelspec": {
   "display_name": "Python 3",
   "language": "python",
   "name": "python3"
  },
  "language_info": {
   "codemirror_mode": {
    "name": "ipython",
    "version": 3
   },
   "file_extension": ".py",
   "mimetype": "text/x-python",
   "name": "python",
   "nbconvert_exporter": "python",
   "pygments_lexer": "ipython3",
   "version": "3.7.5"
  }
 },
 "nbformat": 4,
 "nbformat_minor": 2
}
