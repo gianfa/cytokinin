{
 "cells": [
  {
   "cell_type": "markdown",
   "metadata": {},
   "source": [
    "* [Expell data set to files](#expell)\n",
    "* [Generate a ML DataFrame](#gen_mldf)\n",
    "    * [with labels as categories names](#genml_labs)\n",
    "    * [with labels as categories numbers](#genml_catnumbs)\n",
    "    * [with labels as 1-hot encoded numbers](#genml_1hot)\n",
    "* [Export to other frameworks](#export)\n",
    "    * [to Keras](#exp_keras)\n",
    "    * [to FastAI](#exp_fastai)\n",
    "    * [to Pytorch](#exp_pytorch)"
   ]
  },
  {
   "cell_type": "markdown",
   "metadata": {},
   "source": [
    "# Data Exporting"
   ]
  },
  {
   "cell_type": "code",
   "execution_count": null,
   "metadata": {},
   "outputs": [],
   "source": [
    "## Workspace preparation ##\n",
    "import os\n",
    "from pathlib import Path\n",
    "import logging\n",
    "logging.basicConfig()\n",
    "log = logging.getLogger()\n",
    "log.setLevel(logging.INFO)\n",
    "logging.getLogger('PIL').setLevel(logging.INFO)\n",
    "logging.getLogger('matplotlib').setLevel(logging.INFO)"
   ]
  },
  {
   "cell_type": "code",
   "execution_count": null,
   "metadata": {},
   "outputs": [],
   "source": [
    "import cytokinin as ck\n",
    "from cytokinin.data import take_data"
   ]
  },
  {
   "cell_type": "code",
   "execution_count": null,
   "metadata": {},
   "outputs": [],
   "source": [
    "root = Path('./../') # quite the same as str"
   ]
  },
  {
   "cell_type": "code",
   "execution_count": null,
   "metadata": {},
   "outputs": [],
   "source": [
    "# Set an example dir for images files\n",
    "MOCKS = root.joinpath('./cytokinin/cytokinin/tests/mocks/')\n",
    "IMGS = MOCKS/'imgs' # this is another Path object\n",
    "os.listdir(str(IMGS))"
   ]
  },
  {
   "cell_type": "markdown",
   "metadata": {
    "heading_collapsed": true
   },
   "source": [
    "## <div id='expell'>Expell to files</div>"
   ]
  },
  {
   "cell_type": "markdown",
   "metadata": {
    "hidden": true
   },
   "source": [
    "It saves the data set, loaded by the class, into a specific place in a specific format.  \n",
    "This way you can easily build your dataset, rearranging pre-existing ones."
   ]
  },
  {
   "cell_type": "markdown",
   "metadata": {
    "hidden": true
   },
   "source": [
    "Now load data set into the class."
   ]
  },
  {
   "cell_type": "code",
   "execution_count": null,
   "metadata": {
    "hidden": true
   },
   "outputs": [],
   "source": [
    "c = take_data('images').store_filesnames_from_folder(IMGS/'dog')\n",
    "c.filesnames.head()"
   ]
  },
  {
   "cell_type": "markdown",
   "metadata": {
    "hidden": true
   },
   "source": [
    "Before to continue create a folder \"bin\" in MOCKS/, to contain the results of this tutorial."
   ]
  },
  {
   "cell_type": "code",
   "execution_count": null,
   "metadata": {
    "hidden": true
   },
   "outputs": [],
   "source": [
    "os.mkdir(MOCKS/'bin')"
   ]
  },
  {
   "cell_type": "markdown",
   "metadata": {
    "hidden": true
   },
   "source": [
    "##### Basic expell"
   ]
  },
  {
   "cell_type": "markdown",
   "metadata": {
    "hidden": true
   },
   "source": [
    "Expell all data set into *inthisnewfolder*, preserving their names."
   ]
  },
  {
   "cell_type": "code",
   "execution_count": null,
   "metadata": {
    "hidden": true
   },
   "outputs": [],
   "source": [
    "# BEFORE TO RUN THIS: create this folder (mocks/bin) yourself in order to see what happens\n",
    "\n",
    "path = str(MOCKS/'bin')\n",
    "inthisnewfolder = 'new_images'\n",
    "namefilesas = None\n",
    "c.expell_to(path, inthisnewfolder, namefilesas)"
   ]
  },
  {
   "cell_type": "markdown",
   "metadata": {
    "hidden": true
   },
   "source": [
    "##### expell_to: namefilesas 'data'"
   ]
  },
  {
   "cell_type": "markdown",
   "metadata": {
    "hidden": true
   },
   "source": [
    "Like the Basic expell, but naming output files with the name of the object containing them as prefix.\n",
    "Remember every object of the Data class has a *name* property."
   ]
  },
  {
   "cell_type": "code",
   "execution_count": null,
   "metadata": {
    "hidden": true
   },
   "outputs": [],
   "source": [
    "c.name  # files have been named with this prefix"
   ]
  },
  {
   "cell_type": "code",
   "execution_count": null,
   "metadata": {
    "hidden": true
   },
   "outputs": [],
   "source": [
    "path = str(MOCKS/'bin')\n",
    "inthisnewfolder = 'new_images2'\n",
    "namefilesas = 'data'\n",
    "c.expell_to(path, inthisnewfolder, namefilesas)"
   ]
  },
  {
   "cell_type": "markdown",
   "metadata": {
    "hidden": true
   },
   "source": [
    "##### expell_to: namefilesas 'folder'"
   ]
  },
  {
   "cell_type": "markdown",
   "metadata": {
    "hidden": true
   },
   "source": [
    "It expells fles in a specific folder, naming them after the folder that will contain them.  \n",
    "Example:\n",
    "```python\n",
    "c.expell_to('imgs/', 'class5', namefilesas='folder)\n",
    "os.listdir('imgs/class5')\n",
    "# ['class5_dog1.png', 'class5_dog32.png', ...]\n",
    "```"
   ]
  },
  {
   "cell_type": "code",
   "execution_count": null,
   "metadata": {
    "hidden": true
   },
   "outputs": [],
   "source": [
    "path = str(MOCKS/'bin')\n",
    "inthisnewfolder = 'new_images3'\n",
    "namefilesas = 'folder'\n",
    "c.expell_to(path, inthisnewfolder, namefilesas)"
   ]
  },
  {
   "cell_type": "markdown",
   "metadata": {
    "heading_collapsed": true
   },
   "source": [
    "## <div id ='gen_mldf'>Generate a ml df</div>"
   ]
  },
  {
   "cell_type": "code",
   "execution_count": null,
   "metadata": {
    "hidden": true
   },
   "outputs": [],
   "source": [
    "# Create a Data from two roots: dogs and stones\n",
    "dogs = take_data('images').store_filesnames_from_folder(IMGS.joinpath('dog'))\n",
    "stones = take_data('images').store_filesnames_from_folder(IMGS.joinpath('stone'))\n",
    "dands = dogs.copy().add_from_data(stones)\n",
    "\n",
    "csv_url = MOCKS/'labels'/'dogsandstones_labes.csv'\n",
    "dands.label_from_csv(csv_url, col='Y')\n",
    "print(dands)"
   ]
  },
  {
   "cell_type": "markdown",
   "metadata": {
    "hidden": true
   },
   "source": [
    "#### <div id='genml_labs'> with labels as category names</div>"
   ]
  },
  {
   "cell_type": "code",
   "execution_count": null,
   "metadata": {
    "hidden": true
   },
   "outputs": [],
   "source": [
    "dands.filesnames_to_ml_df()"
   ]
  },
  {
   "cell_type": "markdown",
   "metadata": {
    "hidden": true
   },
   "source": [
    "#### <div id='genml_catnumbs'>with labels as categories numbers</div>"
   ]
  },
  {
   "cell_type": "code",
   "execution_count": null,
   "metadata": {
    "hidden": true
   },
   "outputs": [],
   "source": [
    "dands.filesnames_to_ml_df(y_as='classnum').copy()"
   ]
  },
  {
   "cell_type": "markdown",
   "metadata": {
    "hidden": true
   },
   "source": [
    "#### <div id ='genml_1hot'>with labels as 1-hot encoded</div>"
   ]
  },
  {
   "cell_type": "code",
   "execution_count": null,
   "metadata": {
    "hidden": true
   },
   "outputs": [],
   "source": [
    "dands.filesnames_to_ml_df(y_as='1hot').copy()"
   ]
  },
  {
   "cell_type": "markdown",
   "metadata": {
    "heading_collapsed": true
   },
   "source": [
    "## <div id='export'>Export</div>"
   ]
  },
  {
   "cell_type": "markdown",
   "metadata": {
    "hidden": true
   },
   "source": [
    "### <div id ='exp_keras'>to Keras ImageDataGenerator</div>\n",
    "\n",
    "Data.export_to_keras()"
   ]
  },
  {
   "cell_type": "markdown",
   "metadata": {
    "hidden": true
   },
   "source": [
    "Let's try to export a not labeled data, equal a single class data, beacuse cytokinin assumes that if you're sure to ask not labeled data it means they are all from a single class."
   ]
  },
  {
   "cell_type": "code",
   "execution_count": null,
   "metadata": {
    "hidden": true
   },
   "outputs": [],
   "source": [
    "# Create a Data from two roots: dogs and stones\n",
    "dogs = take_data('images').store_filesnames_from_folder(IMGS.joinpath('dog'))\n",
    "stones = take_data('images').store_filesnames_from_folder(IMGS.joinpath('stone'))\n",
    "dands = dogs.copy().add_from_data(stones)\n",
    "print(dands)"
   ]
  },
  {
   "cell_type": "code",
   "execution_count": null,
   "metadata": {
    "hidden": true
   },
   "outputs": [],
   "source": [
    "dands.export_to_keras()"
   ]
  },
  {
   "cell_type": "markdown",
   "metadata": {
    "hidden": true
   },
   "source": [
    "Now use well labeled files (2 classes)"
   ]
  },
  {
   "cell_type": "code",
   "execution_count": null,
   "metadata": {
    "hidden": true
   },
   "outputs": [],
   "source": [
    "# Create a Data from two roots: dogs and stones\n",
    "dogs = take_data('images').store_filesnames_from_folder(IMGS.joinpath('dog'))\n",
    "stones = take_data('images').store_filesnames_from_folder(IMGS.joinpath('stone'))\n",
    "dands = dogs.copy().add_from_data(stones)\n",
    "\n",
    "csv_url = MOCKS/'labels'/'dogsandstones_labes.csv'\n",
    "dands.label_from_csv(csv_url, col='Y')\n",
    "print(dands)"
   ]
  },
  {
   "cell_type": "code",
   "execution_count": null,
   "metadata": {
    "hidden": true
   },
   "outputs": [],
   "source": [
    "idg = dands.export_to_keras()\n",
    "idg"
   ]
  },
  {
   "cell_type": "markdown",
   "metadata": {
    "hidden": true
   },
   "source": [
    "it also accepts [Imagedatagenerator](https://keras.io/preprocessing/image/#imagedatagenerator-class) arguments"
   ]
  },
  {
   "cell_type": "code",
   "execution_count": null,
   "metadata": {
    "hidden": true
   },
   "outputs": [],
   "source": [
    "idg_args = {\n",
    "    'rescale': 1./255,\n",
    "    'shear_range': 0.2,\n",
    "    'zoom_range': 0.2,\n",
    "    'horizontal_flip': True\n",
    "}\n",
    "ke_gen = dands.export_to_keras(imagedatagenerator_args=idg_args)"
   ]
  },
  {
   "cell_type": "markdown",
   "metadata": {
    "hidden": true
   },
   "source": [
    "If you want a **complete example** on how to use it with Keras, please check the [Train a Keras model with cytokinin](./examples/Train%20a%20Keras%20model.ipynb) example!"
   ]
  },
  {
   "cell_type": "markdown",
   "metadata": {
    "heading_collapsed": true,
    "hidden": true
   },
   "source": [
    "### <div id='exp_fastai'>to FastAI</div>\n",
    "\n",
    "Data.export_to_fastAI()"
   ]
  },
  {
   "cell_type": "code",
   "execution_count": null,
   "metadata": {
    "hidden": true
   },
   "outputs": [],
   "source": [
    "# Create a Data from two roots: dogs and stones\n",
    "dogs = take_data('images').store_filesnames_from_folder(IMGS.joinpath('dog'))\n",
    "stones = take_data('images').store_filesnames_from_folder(IMGS.joinpath('stone'))\n",
    "dands = dogs.copy().add_from_data(stones)\n",
    "\n",
    "csv_url = MOCKS/'labels'/'dogsandstones_labes.csv'\n",
    "dands.label_from_csv(csv_url, col='Y')\n",
    "print(dands)"
   ]
  },
  {
   "cell_type": "markdown",
   "metadata": {
    "hidden": true
   },
   "source": [
    "To export your dataset to FastAI is very easy"
   ]
  },
  {
   "cell_type": "code",
   "execution_count": null,
   "metadata": {
    "hidden": true
   },
   "outputs": [],
   "source": [
    "fastai_idb = dands.export_to_fastAI(imagedatabunch_args=idb_args)\n",
    "fastai_idb"
   ]
  },
  {
   "cell_type": "markdown",
   "metadata": {
    "hidden": true
   },
   "source": [
    "You can pass FastAI [ImageDataBunch](https://docs.fast.ai/vision.data.html#ImageDataBunch) arguments too "
   ]
  },
  {
   "cell_type": "code",
   "execution_count": null,
   "metadata": {
    "hidden": true
   },
   "outputs": [],
   "source": [
    "from fastai.vision import ImageDataBunch,ImageList\n",
    "from fastai.vision.transform import get_transforms\n",
    "tfms_arg = get_transforms() # https://docs.fast.ai/vision.transform.html\n",
    "idb_args = {\n",
    "    'ds_tfms': tfms_arg,\n",
    "    'valid_pct': 0,\n",
    "    'bs': 40,\n",
    "#     'label_col': None, #label column\n",
    "}\n",
    "\n",
    "fastai_idb = dands.export_to_fastAI(imagedatabunch_args=idb_args)\n",
    "fastai_idb"
   ]
  },
  {
   "cell_type": "code",
   "execution_count": null,
   "metadata": {
    "hidden": true
   },
   "outputs": [],
   "source": [
    "type(fastai_idb)"
   ]
  },
  {
   "cell_type": "code",
   "execution_count": null,
   "metadata": {
    "hidden": true
   },
   "outputs": [],
   "source": [
    "fastai_idb.open( fastai_idb.items[1] )"
   ]
  },
  {
   "cell_type": "markdown",
   "metadata": {
    "hidden": true
   },
   "source": [
    "nice doggo"
   ]
  },
  {
   "cell_type": "markdown",
   "metadata": {
    "heading_collapsed": true,
    "hidden": true
   },
   "source": [
    "### <div id='exp_pytorch'>to Pytorch</div>"
   ]
  },
  {
   "cell_type": "markdown",
   "metadata": {
    "hidden": true
   },
   "source": [
    "To make the Data object ready to get into a Pytorch [dataloaders](https://pytorch.org/docs/stable/data.html) you only need to specify a Pytorch [transform](https://pytorch.org/docs/stable/torchvision/transforms.html) and cytokinin will take care about the rest.  \n",
    "Let's have a look to how to do it."
   ]
  },
  {
   "cell_type": "code",
   "execution_count": null,
   "metadata": {
    "hidden": true
   },
   "outputs": [],
   "source": [
    "# Create a Data from two roots: dogs and stones\n",
    "dogs = take_data('images').store_filesnames_from_folder(IMGS.joinpath('dog'))\n",
    "stones = take_data('images').store_filesnames_from_folder(IMGS.joinpath('stone'))\n",
    "dands = dogs.copy().add_from_data(stones)\n",
    "\n",
    "csv_url = MOCKS/'labels'/'dogsandstones_labes.csv'\n",
    "dands.label_from_csv(csv_url, col='Y')\n",
    "print(dands)"
   ]
  },
  {
   "cell_type": "markdown",
   "metadata": {
    "hidden": true
   },
   "source": [
    "Just define a simple Pytorch [transform](https://pytorch.org/docs/stable/torchvision/transforms.html)"
   ]
  },
  {
   "cell_type": "code",
   "execution_count": null,
   "metadata": {
    "code_folding": [],
    "hidden": true
   },
   "outputs": [],
   "source": [
    "import torchvision.transforms as transforms\n",
    "transformations = transforms.Compose([\n",
    "    transforms.Resize((224,224),interpolation=2), # NEEDED if you want to use *batch_size*\n",
    "    transforms.ToTensor(),\n",
    "    transforms.Normalize(mean=[0.485, 0.456, 0.406], std=[0.229, 0.224, 0.225])\n",
    "])"
   ]
  },
  {
   "cell_type": "markdown",
   "metadata": {
    "hidden": true
   },
   "source": [
    "Set the transforms in Data object"
   ]
  },
  {
   "cell_type": "code",
   "execution_count": null,
   "metadata": {
    "hidden": true
   },
   "outputs": [],
   "source": [
    "dands.set_transforms(transformations)\n",
    "print(dands.torch_tsfm)"
   ]
  },
  {
   "cell_type": "markdown",
   "metadata": {
    "hidden": true
   },
   "source": [
    "That's all!  \n",
    "Now our Data object is ready to be passed to a Pytorch dataloader"
   ]
  },
  {
   "cell_type": "code",
   "execution_count": null,
   "metadata": {
    "hidden": true
   },
   "outputs": [],
   "source": [
    "from torch.utils.data import Dataset, DataLoader\n",
    "train_loader = DataLoader(dands, batch_size=8, shuffle=True)\n",
    "train_loader"
   ]
  },
  {
   "cell_type": "markdown",
   "metadata": {
    "hidden": true
   },
   "source": [
    "Do you want a **complete example** on how to use it with Pytorch? Check the [Train a Pytorch network with cytokinin](./examples/Train%20a%20Pytorch%20network.ipynb) example!"
   ]
  },
  {
   "cell_type": "code",
   "execution_count": null,
   "metadata": {
    "hidden": true
   },
   "outputs": [],
   "source": []
  }
 ],
 "metadata": {
  "kernelspec": {
   "display_name": "Python 3",
   "language": "python",
   "name": "python3"
  },
  "language_info": {
   "codemirror_mode": {
    "name": "ipython",
    "version": 3
   },
   "file_extension": ".py",
   "mimetype": "text/x-python",
   "name": "python",
   "nbconvert_exporter": "python",
   "pygments_lexer": "ipython3",
   "version": "3.7.3"
  }
 },
 "nbformat": 4,
 "nbformat_minor": 2
}
