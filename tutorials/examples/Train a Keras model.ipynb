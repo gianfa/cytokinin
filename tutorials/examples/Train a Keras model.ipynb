{
 "cells": [
  {
   "cell_type": "markdown",
   "metadata": {},
   "source": [
    "As a use case, below you find a simple example of keras fitting from the datastructure just obtained. It is only for demonstration purpose, so no tuning or optimization has been done, do it yourself and please submit a PR 😉."
   ]
  },
  {
   "cell_type": "markdown",
   "metadata": {},
   "source": [
    "Workspace setup"
   ]
  },
  {
   "cell_type": "code",
   "execution_count": null,
   "metadata": {},
   "outputs": [],
   "source": [
    "import os\n",
    "from pathlib import Path\n",
    "root = Path('./../')\n",
    "\n",
    "import logging\n",
    "logging.basicConfig()\n",
    "log = logging.getLogger()\n",
    "log.setLevel(logging.INFO)\n",
    "pil_logger = logging.getLogger('PIL') # shutup PIL!\n",
    "pil_logger.setLevel(logging.INFO)\n",
    "\n",
    "\n",
    "# Set an example dir for images files\n",
    "MOCKS = root.joinpath('./../cytokinin/cytokinin/tests/mocks/')\n",
    "IMGS = MOCKS/'imgs' # this is another Path object\n",
    "os.listdir(str(IMGS))"
   ]
  },
  {
   "cell_type": "code",
   "execution_count": null,
   "metadata": {},
   "outputs": [],
   "source": [
    "import cytokinin as ck\n",
    "from cytokinin.data import take_data"
   ]
  },
  {
   "cell_type": "code",
   "execution_count": null,
   "metadata": {},
   "outputs": [],
   "source": [
    "# Create a Data from two roots: dogs and stones\n",
    "dogs = take_data('images').store_filesnames_from_folder(IMGS.joinpath('dog'))\n",
    "stones = take_data('images').store_filesnames_from_folder(IMGS.joinpath('stone'))\n",
    "dands = dogs.copy().add_from_data(stones)\n",
    "\n",
    "csv_url = MOCKS/'labels'/'dogsandstones_labes.csv'\n",
    "dands.label_from_csv(csv_url, col='Y')\n",
    "print(dands)"
   ]
  },
  {
   "cell_type": "code",
   "execution_count": null,
   "metadata": {},
   "outputs": [],
   "source": [
    "idg_args = {\n",
    "    'rescale': 1./255,\n",
    "    'shear_range': 0.2,\n",
    "    'zoom_range': 0.2,\n",
    "    'horizontal_flip': True\n",
    "}\n",
    "ke_gen = dands.export_to_keras(imagedatagenerator_args=idg_args)"
   ]
  },
  {
   "cell_type": "code",
   "execution_count": null,
   "metadata": {},
   "outputs": [],
   "source": [
    "### This part is for preparing a Keras model ####\n",
    "\n",
    "from tensorflow.keras.models import Sequential\n",
    "from tensorflow.keras.layers import Dense, Dropout, Activation, Flatten, Conv2D, MaxPooling2D\n",
    "from tensorflow.keras.optimizers import SGD, Adam\n",
    "\n",
    "n_classes = 2\n",
    "\n",
    "### Model definition ###\n",
    "model = Sequential()\n",
    "model.add( Dense(100, activation='relu', input_shape=(256,256,3)) )\n",
    "model.add( Dense(60, activation='relu') )\n",
    "model.add( Dense(10, activation='relu') )\n",
    "model.add( Flatten() )\n",
    "model.add( Dense(n_classes, activation='softmax') )\n",
    "\n",
    "### Compile ###\n",
    "sgd = SGD(lr=1e-4, decay=1e-6, momentum=0.9, nesterov=True)\n",
    "model.compile(loss='categorical_crossentropy', optimizer=sgd, metrics=['accuracy'])\n",
    "#imsize = (64,64)\n"
   ]
  },
  {
   "cell_type": "markdown",
   "metadata": {},
   "source": [
    "... and fit!"
   ]
  },
  {
   "cell_type": "code",
   "execution_count": null,
   "metadata": {},
   "outputs": [],
   "source": [
    "### Fit ###\n",
    "model.fit_generator(\n",
    "        ke_gen,\n",
    "        #steps_per_epoch=20,\n",
    "        epochs=3,\n",
    "        #validation_data=validation_generator,\n",
    "        validation_steps=1)"
   ]
  },
  {
   "cell_type": "code",
   "execution_count": null,
   "metadata": {},
   "outputs": [],
   "source": []
  }
 ],
 "metadata": {
  "kernelspec": {
   "display_name": "Python 3",
   "language": "python",
   "name": "python3"
  },
  "language_info": {
   "codemirror_mode": {
    "name": "ipython",
    "version": 3
   },
   "file_extension": ".py",
   "mimetype": "text/x-python",
   "name": "python",
   "nbconvert_exporter": "python",
   "pygments_lexer": "ipython3",
   "version": "3.7.3"
  }
 },
 "nbformat": 4,
 "nbformat_minor": 2
}
