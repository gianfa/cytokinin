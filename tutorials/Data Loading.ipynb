{
 "cells": [
  {
   "cell_type": "markdown",
   "metadata": {},
   "source": [
    "# Data loading"
   ]
  },
  {
   "cell_type": "markdown",
   "metadata": {},
   "source": [
    "## Contents\n",
    "\n",
    "* [Load data](#load)\n",
    "    * [from list](#load_list)\n",
    "    * [from Pandas.DataFrame](#load_df)\n",
    "    * [from folder](#load_folder)\n",
    "    * [from folder *interactively*](#load_folder_int)\n",
    "* [Adding data](#add)\n",
    "    * [from Data](#add_data)\n",
    "* [Label](#label)\n",
    "    * [from folder](#label_from_folder)\n",
    "    * [from CSV file](#label_from_csv)\n",
    "    * [from CSV file *interactively*](#inter__label_from_csv)\n",
    "* [Getting items through indexing](#indexing)\n",
    "* [To](#to)\n",
    "    * [to Path list](#to_pathlist)\n",
    "    * [to list](#to_list)\n",
    "    * [to Array](#to_np)\n",
    "    * [to Pandas.DataFrame](#to_df)\n",
    "    * [to Pandas.Series](#to_series)"
   ]
  },
  {
   "cell_type": "markdown",
   "metadata": {},
   "source": [
    "Loading images with cytokinin is very simple. Here many examples are shown. The best way to follow this demo is to try sequentially all the proposed code cells, since many of them depend on previous output."
   ]
  },
  {
   "cell_type": "markdown",
   "metadata": {},
   "source": [
    "First of all install the cytokinin. Obviously jump over if you already have done it."
   ]
  },
  {
   "cell_type": "code",
   "execution_count": null,
   "metadata": {},
   "outputs": [],
   "source": [
    "!pwd"
   ]
  },
  {
   "cell_type": "code",
   "execution_count": null,
   "metadata": {},
   "outputs": [],
   "source": [
    "!pip uninstall cytokinin -y"
   ]
  },
  {
   "cell_type": "code",
   "execution_count": null,
   "metadata": {},
   "outputs": [],
   "source": [
    "!pip install ./../cytokinin"
   ]
  },
  {
   "cell_type": "markdown",
   "metadata": {},
   "source": [
    "Workspace preparation"
   ]
  },
  {
   "cell_type": "code",
   "execution_count": null,
   "metadata": {},
   "outputs": [],
   "source": [
    "import os\n",
    "import json\n",
    "import numpy as np\n",
    "import pandas as pd\n",
    "from pathlib import Path\n",
    "import logging\n",
    "pil_logger = logging.getLogger('PIL')\n",
    "pil_logger.setLevel(logging.INFO)"
   ]
  },
  {
   "cell_type": "code",
   "execution_count": null,
   "metadata": {},
   "outputs": [],
   "source": [
    "import cytokinin as ck"
   ]
  },
  {
   "cell_type": "code",
   "execution_count": null,
   "metadata": {},
   "outputs": [],
   "source": [
    "root = Path('./../') # quite the same as str"
   ]
  },
  {
   "cell_type": "code",
   "execution_count": null,
   "metadata": {},
   "outputs": [],
   "source": [
    "# Set an example dir for images files\n",
    "MOCKS = root.joinpath('./cytokinin/cytokinin/tests/mocks/')\n",
    "IMGS = MOCKS/'imgs' # this is another Path object\n",
    "os.listdir(str(IMGS))"
   ]
  },
  {
   "cell_type": "markdown",
   "metadata": {},
   "source": [
    "## <div id ='loaddata'>Load data</div>"
   ]
  },
  {
   "cell_type": "markdown",
   "metadata": {},
   "source": [
    "### <div id='load_list'>Load from list</div>"
   ]
  },
  {
   "cell_type": "code",
   "execution_count": null,
   "metadata": {},
   "outputs": [],
   "source": [
    "flist = []\n",
    "for root, dirs, files in os.walk(IMGS, topdown=False):\n",
    "    for f in files:\n",
    "        flist.append(os.path.join(root, f))\n",
    "flist[:5]"
   ]
  },
  {
   "cell_type": "code",
   "execution_count": null,
   "metadata": {},
   "outputs": [],
   "source": [
    "from cytokinin.data import take_data\n",
    "imgs = take_data('images')\n",
    "imgs"
   ]
  },
  {
   "cell_type": "code",
   "execution_count": null,
   "metadata": {},
   "outputs": [],
   "source": [
    "imgs.store_filesnames_from_list(flist) # load\n",
    "imgs.filesnames.head() #show"
   ]
  },
  {
   "cell_type": "markdown",
   "metadata": {},
   "source": [
    "### <div id= 'load_df'>Load from DataFrame</div>"
   ]
  },
  {
   "cell_type": "code",
   "execution_count": null,
   "metadata": {},
   "outputs": [],
   "source": [
    "df = pd.DataFrame({'files': flist})\n",
    "df.head()"
   ]
  },
  {
   "cell_type": "code",
   "execution_count": null,
   "metadata": {},
   "outputs": [],
   "source": [
    "imgs = take_data('images')\n",
    "imgs.store_filesnames_from_df(df, 'files') #hold uniques\n",
    "imgs.filesnames.head()"
   ]
  },
  {
   "cell_type": "markdown",
   "metadata": {},
   "source": [
    "### <div id= 'load_folder'>Load from folder</div>"
   ]
  },
  {
   "cell_type": "code",
   "execution_count": null,
   "metadata": {},
   "outputs": [],
   "source": [
    "dogs_folder = IMGS.joinpath('dog')\n",
    "dogs = take_data('images').store_filesnames_from_folder(dogs_folder)\n",
    "dogs.filesnames.head()"
   ]
  },
  {
   "cell_type": "markdown",
   "metadata": {},
   "source": [
    "### <div id= 'load_folder_int'>Load from folder interactively</div>"
   ]
  },
  {
   "cell_type": "markdown",
   "metadata": {},
   "source": [
    "Here a very comfortable way to load images from system is shown. Sometimes is confusing and boring fishing data around the folders through code, then try this interactive way!   \n",
    "\n",
    "Caveat: it can be a little unstable, especially when launched from jupyter notebooks on mac. In the worst case just restart the kernel."
   ]
  },
  {
   "cell_type": "markdown",
   "metadata": {},
   "source": [
    "Example 1: You select a good folder, containing images"
   ]
  },
  {
   "cell_type": "code",
   "execution_count": null,
   "metadata": {},
   "outputs": [],
   "source": [
    "dogs = take_data('images')\n",
    "dogs.store_filesnames_from_folder(gui=True, include_subdirs=True)\n",
    "dogs.filesnames.head()"
   ]
  },
  {
   "cell_type": "markdown",
   "metadata": {},
   "source": [
    "Example 2: You select a wrong folder"
   ]
  },
  {
   "cell_type": "code",
   "execution_count": null,
   "metadata": {},
   "outputs": [],
   "source": [
    "dogs = take_data('images')\n",
    "try:\n",
    "    dogs.store_filesnames_from_folder(gui=True, include_subdirs=False)\n",
    "except Exception as e:\n",
    "    print(e)\n",
    "    print(f'filesnames:\\n{dogs.filesnames}')"
   ]
  },
  {
   "cell_type": "markdown",
   "metadata": {},
   "source": [
    "## <div id='add'>Adding data</div>"
   ]
  },
  {
   "cell_type": "markdown",
   "metadata": {},
   "source": [
    "### <div id='add_data'>add from Data</div>"
   ]
  },
  {
   "cell_type": "markdown",
   "metadata": {},
   "source": [
    "You can easily stack data from differente Data objects in order to build up your dataset and be ready to feed your model."
   ]
  },
  {
   "cell_type": "code",
   "execution_count": null,
   "metadata": {},
   "outputs": [],
   "source": [
    "dogs_folder = IMGS.joinpath('dog')\n",
    "dogs = take_data('images').store_filesnames_from_folder(dogs_folder)\n",
    "stones_folder = IMGS.joinpath('stone')\n",
    "stones = take_data('images').store_filesnames_from_folder(stones_folder)"
   ]
  },
  {
   "cell_type": "code",
   "execution_count": null,
   "metadata": {},
   "outputs": [],
   "source": [
    "dogs_and_stones = dogs.copy()\n",
    "print(dogs_and_stones)"
   ]
  },
  {
   "cell_type": "code",
   "execution_count": null,
   "metadata": {},
   "outputs": [],
   "source": [
    "dogs_and_stones.add_from_data(stones)\n",
    "print(dogs_and_stones)"
   ]
  },
  {
   "cell_type": "markdown",
   "metadata": {},
   "source": [
    "## <div id='label'>Label</div>"
   ]
  },
  {
   "cell_type": "markdown",
   "metadata": {},
   "source": [
    "Supervised learning data set needs both samples and labels, here you can see how to load labels."
   ]
  },
  {
   "cell_type": "markdown",
   "metadata": {},
   "source": [
    "### <div id='label_from_folder'>from filesnames folder</div>"
   ]
  },
  {
   "cell_type": "code",
   "execution_count": null,
   "metadata": {},
   "outputs": [],
   "source": [
    "dogs_and_stones.label_from_folder()\n",
    "# Let's see what it loaded\n",
    "print(dogs_and_stones.labels.unique())\n",
    "dogs_and_stones.labels.value_counts()"
   ]
  },
  {
   "cell_type": "markdown",
   "metadata": {},
   "source": [
    "### <div id='label_from_csv'>from csv file</div>"
   ]
  },
  {
   "cell_type": "code",
   "execution_count": null,
   "metadata": {},
   "outputs": [],
   "source": [
    "# Load dogs images\n",
    "dogs = take_data('images').store_filesnames_from_folder(IMGS/'dog')\n",
    "# Load stones images\n",
    "stones = take_data('images').store_filesnames_from_folder(IMGS/'stone')\n",
    "# Merge Data set\n",
    "dogs_and_stones2 = dogs.copy().add_from_data(stones)\n",
    "print(f'Before:\\n{dogs_and_stones2}')\n",
    "\n",
    "# Label the resulting Data set\n",
    "csv_url = MOCKS/'labels'/'dogsandstones_labes.csv'\n",
    "dogs_and_stones2.label_from_csv(csv_url, col='Y')\n",
    "print(f'After:\\n{dogs_and_stones2}')"
   ]
  },
  {
   "cell_type": "markdown",
   "metadata": {},
   "source": [
    "### <div id='inter_label_from_csv'>from CSV file interactively</div>"
   ]
  },
  {
   "cell_type": "code",
   "execution_count": null,
   "metadata": {},
   "outputs": [],
   "source": [
    "## Experimental! Available soon...\n",
    "# dogs_and_stones2 = dogs.copy()\n",
    "# dogs_and_stones2.add_from_data(stones)\n",
    "# print(dogs_and_stones)\n",
    "# dogs_and_stones.label_from_csv(csv_url, gui=True)\n",
    "# print(dogs_and_stones)"
   ]
  },
  {
   "cell_type": "markdown",
   "metadata": {},
   "source": [
    "## <div id='indexing'>Getting items through indexing</div>"
   ]
  },
  {
   "cell_type": "markdown",
   "metadata": {},
   "source": [
    "You can access stored items like any other python iterables "
   ]
  },
  {
   "cell_type": "code",
   "execution_count": null,
   "metadata": {},
   "outputs": [],
   "source": [
    "dogs_and_stones[0]"
   ]
  },
  {
   "cell_type": "code",
   "execution_count": null,
   "metadata": {},
   "outputs": [],
   "source": [
    "dogs_and_stones[:4]"
   ]
  },
  {
   "cell_type": "markdown",
   "metadata": {},
   "source": [
    "Each element is a tuple made by the PIL Image Object and the label"
   ]
  },
  {
   "cell_type": "code",
   "execution_count": null,
   "metadata": {},
   "outputs": [],
   "source": [
    "dogs_and_stones[3][0]"
   ]
  },
  {
   "cell_type": "markdown",
   "metadata": {},
   "source": [
    "Also you can choose a default PIL color mode you want the images to be opened each time they are gotten. \n",
    "Check [PIL Modes](https://github.com/python-pillow/Pillow/blob/5.1.x/docs/handbook/concepts.rst#id3) for more info about the color modes available."
   ]
  },
  {
   "cell_type": "code",
   "execution_count": null,
   "metadata": {},
   "outputs": [],
   "source": [
    "dogs_and_stones.set_colormode('L') # L is greyscale"
   ]
  },
  {
   "cell_type": "code",
   "execution_count": null,
   "metadata": {},
   "outputs": [],
   "source": [
    "dogs_and_stones[3][0] # play with it"
   ]
  },
  {
   "cell_type": "markdown",
   "metadata": {},
   "source": [
    "## Print"
   ]
  },
  {
   "cell_type": "markdown",
   "metadata": {},
   "source": [
    "You can easily retrieve your Data info printing it"
   ]
  },
  {
   "cell_type": "code",
   "execution_count": null,
   "metadata": {},
   "outputs": [],
   "source": [
    "print(dogs)"
   ]
  },
  {
   "cell_type": "markdown",
   "metadata": {},
   "source": [
    "## <div id='to'>To</div>"
   ]
  },
  {
   "cell_type": "markdown",
   "metadata": {},
   "source": [
    "Here you can see how you can get a collection of the filesnames to your desired format. This way you can use it the way you want, after having collected all the names using the Data constructor."
   ]
  },
  {
   "cell_type": "markdown",
   "metadata": {},
   "source": [
    "### <div id= 'to_pathlist'>to Paths list</div>"
   ]
  },
  {
   "cell_type": "code",
   "execution_count": null,
   "metadata": {},
   "outputs": [],
   "source": [
    "top_3_as_pathlist = dogs.to('pathlist')[:3]\n",
    "print(f'shape: {np.shape(top_3_as_pathlist)}')\n",
    "top_3_as_pathlist"
   ]
  },
  {
   "cell_type": "markdown",
   "metadata": {},
   "source": [
    "### <div id= 'to_list'>to list</div>"
   ]
  },
  {
   "cell_type": "code",
   "execution_count": null,
   "metadata": {},
   "outputs": [],
   "source": [
    "top_3_as_list = dogs.to('list')[:3]\n",
    "print(f'shape: {np.shape(top_3_as_list)}')\n",
    "top_3_as_list"
   ]
  },
  {
   "cell_type": "markdown",
   "metadata": {},
   "source": [
    "### <div id='to_np'>to Array</div>"
   ]
  },
  {
   "cell_type": "code",
   "execution_count": null,
   "metadata": {},
   "outputs": [],
   "source": [
    "top_3_as_array = dogs.to('arrays')[:3] # array_mode=['rgb', 'gray', 'grey']\n",
    "print(f'shape: {np.shape(top_3_as_array)}')\n",
    "top_3_as_array"
   ]
  },
  {
   "cell_type": "markdown",
   "metadata": {},
   "source": [
    "### <div id= 'to_df'>to Pandas.DataFrame</div>"
   ]
  },
  {
   "cell_type": "code",
   "execution_count": null,
   "metadata": {},
   "outputs": [],
   "source": [
    "top_3_as_df = dogs.to('dataframe')[:3]\n",
    "print(f'shape: {np.shape(top_3_as_df)}')\n",
    "top_3_as_df"
   ]
  },
  {
   "cell_type": "markdown",
   "metadata": {},
   "source": [
    "### <div id='to_series'>to Pandas.Series</div>"
   ]
  },
  {
   "cell_type": "code",
   "execution_count": null,
   "metadata": {},
   "outputs": [],
   "source": [
    "top_3_as_series = dogs.to('series')[:3]\n",
    "print(f'shape: {np.shape(top_3_as_series)}')\n",
    "top_3_as_series"
   ]
  },
  {
   "cell_type": "code",
   "execution_count": null,
   "metadata": {},
   "outputs": [],
   "source": []
  }
 ],
 "metadata": {
  "kernelspec": {
   "display_name": "Python 3",
   "language": "python",
   "name": "python3"
  },
  "language_info": {
   "codemirror_mode": {
    "name": "ipython",
    "version": 3
   },
   "file_extension": ".py",
   "mimetype": "text/x-python",
   "name": "python",
   "nbconvert_exporter": "python",
   "pygments_lexer": "ipython3",
   "version": "3.7.3"
  }
 },
 "nbformat": 4,
 "nbformat_minor": 2
}
