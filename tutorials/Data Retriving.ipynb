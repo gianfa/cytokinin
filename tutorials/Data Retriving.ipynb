{
 "cells": [
  {
   "cell_type": "markdown",
   "metadata": {},
   "source": [
    "# Data retrieving"
   ]
  },
  {
   "cell_type": "code",
   "execution_count": 1,
   "metadata": {},
   "outputs": [
    {
     "name": "stdout",
     "output_type": "stream",
     "text": [
      "/home/gian/Scrivania/github/cytokinin/tutorials\r\n"
     ]
    }
   ],
   "source": [
    "!pwd"
   ]
  },
  {
   "cell_type": "code",
   "execution_count": 2,
   "metadata": {},
   "outputs": [
    {
     "name": "stdout",
     "output_type": "stream",
     "text": [
      "Uninstalling cytokinin-0.0.1:\r\n",
      "  Successfully uninstalled cytokinin-0.0.1\r\n"
     ]
    }
   ],
   "source": [
    "!pip uninstall cytokinin -y"
   ]
  },
  {
   "cell_type": "code",
   "execution_count": 3,
   "metadata": {},
   "outputs": [
    {
     "name": "stdout",
     "output_type": "stream",
     "text": [
      "Processing /home/gian/Scrivania/github/cytokinin/cytokinin\n",
      "Requirement already satisfied: numpy in /home/gian/anaconda3/lib/python3.7/site-packages (from cytokinin==0.0.1) (1.16.2)\n",
      "Requirement already satisfied: matplotlib in /home/gian/anaconda3/lib/python3.7/site-packages (from cytokinin==0.0.1) (3.0.3)\n",
      "Requirement already satisfied: pandas>=0.25.3 in /home/gian/anaconda3/lib/python3.7/site-packages (from cytokinin==0.0.1) (0.25.3)\n",
      "Requirement already satisfied: opencv-python>=4.1.0 in /home/gian/anaconda3/lib/python3.7/site-packages (from cytokinin==0.0.1) (4.1.2.30)\n",
      "Requirement already satisfied: cycler>=0.10 in /home/gian/anaconda3/lib/python3.7/site-packages (from matplotlib->cytokinin==0.0.1) (0.10.0)\n",
      "Requirement already satisfied: kiwisolver>=1.0.1 in /home/gian/anaconda3/lib/python3.7/site-packages (from matplotlib->cytokinin==0.0.1) (1.0.1)\n",
      "Requirement already satisfied: pyparsing!=2.0.4,!=2.1.2,!=2.1.6,>=2.0.1 in /home/gian/anaconda3/lib/python3.7/site-packages (from matplotlib->cytokinin==0.0.1) (2.3.1)\n",
      "Requirement already satisfied: python-dateutil>=2.1 in /home/gian/anaconda3/lib/python3.7/site-packages (from matplotlib->cytokinin==0.0.1) (2.8.0)\n",
      "Requirement already satisfied: pytz>=2017.2 in /home/gian/anaconda3/lib/python3.7/site-packages (from pandas>=0.25.3->cytokinin==0.0.1) (2018.9)\n",
      "Requirement already satisfied: six in /home/gian/anaconda3/lib/python3.7/site-packages (from cycler>=0.10->matplotlib->cytokinin==0.0.1) (1.12.0)\n",
      "Requirement already satisfied: setuptools in /home/gian/anaconda3/lib/python3.7/site-packages (from kiwisolver>=1.0.1->matplotlib->cytokinin==0.0.1) (40.8.0)\n",
      "Building wheels for collected packages: cytokinin\n",
      "  Building wheel for cytokinin (setup.py) ... \u001b[?25ldone\n",
      "\u001b[?25h  Stored in directory: /tmp/pip-ephem-wheel-cache-xy46pce8/wheels/20/e3/ab/fd92d6e1db4dfa1a64713490d13b91970b9fc4d91d15b9af00\n",
      "Successfully built cytokinin\n",
      "Installing collected packages: cytokinin\n",
      "Successfully installed cytokinin-0.0.1\n"
     ]
    }
   ],
   "source": [
    "!pip install ./../cytokinin"
   ]
  },
  {
   "cell_type": "code",
   "execution_count": 4,
   "metadata": {},
   "outputs": [],
   "source": [
    "import os\n",
    "import json\n",
    "import numpy as np\n",
    "import pandas as pd\n",
    "from pathlib import Path"
   ]
  },
  {
   "cell_type": "code",
   "execution_count": 5,
   "metadata": {},
   "outputs": [],
   "source": [
    "import cytokinin as ck"
   ]
  },
  {
   "cell_type": "code",
   "execution_count": 6,
   "metadata": {},
   "outputs": [],
   "source": [
    "root = Path('./../') # quite the same as str"
   ]
  },
  {
   "cell_type": "code",
   "execution_count": 7,
   "metadata": {},
   "outputs": [
    {
     "data": {
      "text/plain": [
       "['dog', 'stone']"
      ]
     },
     "execution_count": 7,
     "metadata": {},
     "output_type": "execute_result"
    }
   ],
   "source": [
    "# Set an example dir for images files\n",
    "MOCKS = root.joinpath('./cytokinin/cytokinin/tests/mocks/')\n",
    "IMGS = MOCKS/'imgs' # this is another Path object\n",
    "os.listdir(str(IMGS))"
   ]
  },
  {
   "cell_type": "markdown",
   "metadata": {},
   "source": [
    "## Load data"
   ]
  },
  {
   "cell_type": "markdown",
   "metadata": {},
   "source": [
    "### Load from list"
   ]
  },
  {
   "cell_type": "code",
   "execution_count": 8,
   "metadata": {},
   "outputs": [
    {
     "data": {
      "text/plain": [
       "['../cytokinin/cytokinin/tests/mocks/imgs/dog/dog_35.jpeg',\n",
       " '../cytokinin/cytokinin/tests/mocks/imgs/dog/dog_19.jpeg',\n",
       " '../cytokinin/cytokinin/tests/mocks/imgs/dog/dog_31.jpeg',\n",
       " '../cytokinin/cytokinin/tests/mocks/imgs/dog/dog_8.jpg',\n",
       " '../cytokinin/cytokinin/tests/mocks/imgs/dog/dog_13.jpg']"
      ]
     },
     "execution_count": 8,
     "metadata": {},
     "output_type": "execute_result"
    }
   ],
   "source": [
    "flist = []\n",
    "for root, dirs, files in os.walk(IMGS, topdown=False):\n",
    "    for f in files:\n",
    "        flist.append(os.path.join(root, f))\n",
    "flist[:5]"
   ]
  },
  {
   "cell_type": "code",
   "execution_count": 9,
   "metadata": {},
   "outputs": [
    {
     "name": "stderr",
     "output_type": "stream",
     "text": [
      "INFO:root:CYTOKININ LOADED\n"
     ]
    },
    {
     "data": {
      "text/plain": [
       "<cytokinin.data.Data at 0x7fa74188a208>"
      ]
     },
     "execution_count": 9,
     "metadata": {},
     "output_type": "execute_result"
    }
   ],
   "source": [
    "from cytokinin.data import take_data\n",
    "imgs = take_data('images')\n",
    "imgs"
   ]
  },
  {
   "cell_type": "code",
   "execution_count": 10,
   "metadata": {},
   "outputs": [
    {
     "data": {
      "text/plain": [
       "0    ../cytokinin/cytokinin/tests/mocks/imgs/stone/...\n",
       "1    ../cytokinin/cytokinin/tests/mocks/imgs/dog/do...\n",
       "2    ../cytokinin/cytokinin/tests/mocks/imgs/dog/do...\n",
       "3    ../cytokinin/cytokinin/tests/mocks/imgs/stone/...\n",
       "4    ../cytokinin/cytokinin/tests/mocks/imgs/dog/do...\n",
       "Name: data15783445960064852, dtype: object"
      ]
     },
     "execution_count": 10,
     "metadata": {},
     "output_type": "execute_result"
    }
   ],
   "source": [
    "imgs.store_filesnames_from_list(flist) # load\n",
    "imgs.filesnames.head() #show"
   ]
  },
  {
   "cell_type": "markdown",
   "metadata": {},
   "source": [
    "### Load from DataFrame"
   ]
  },
  {
   "cell_type": "code",
   "execution_count": 11,
   "metadata": {},
   "outputs": [
    {
     "data": {
      "text/html": [
       "<div>\n",
       "<style scoped>\n",
       "    .dataframe tbody tr th:only-of-type {\n",
       "        vertical-align: middle;\n",
       "    }\n",
       "\n",
       "    .dataframe tbody tr th {\n",
       "        vertical-align: top;\n",
       "    }\n",
       "\n",
       "    .dataframe thead th {\n",
       "        text-align: right;\n",
       "    }\n",
       "</style>\n",
       "<table border=\"1\" class=\"dataframe\">\n",
       "  <thead>\n",
       "    <tr style=\"text-align: right;\">\n",
       "      <th></th>\n",
       "      <th>files</th>\n",
       "    </tr>\n",
       "  </thead>\n",
       "  <tbody>\n",
       "    <tr>\n",
       "      <th>0</th>\n",
       "      <td>../cytokinin/cytokinin/tests/mocks/imgs/dog/do...</td>\n",
       "    </tr>\n",
       "    <tr>\n",
       "      <th>1</th>\n",
       "      <td>../cytokinin/cytokinin/tests/mocks/imgs/dog/do...</td>\n",
       "    </tr>\n",
       "    <tr>\n",
       "      <th>2</th>\n",
       "      <td>../cytokinin/cytokinin/tests/mocks/imgs/dog/do...</td>\n",
       "    </tr>\n",
       "    <tr>\n",
       "      <th>3</th>\n",
       "      <td>../cytokinin/cytokinin/tests/mocks/imgs/dog/do...</td>\n",
       "    </tr>\n",
       "    <tr>\n",
       "      <th>4</th>\n",
       "      <td>../cytokinin/cytokinin/tests/mocks/imgs/dog/do...</td>\n",
       "    </tr>\n",
       "  </tbody>\n",
       "</table>\n",
       "</div>"
      ],
      "text/plain": [
       "                                               files\n",
       "0  ../cytokinin/cytokinin/tests/mocks/imgs/dog/do...\n",
       "1  ../cytokinin/cytokinin/tests/mocks/imgs/dog/do...\n",
       "2  ../cytokinin/cytokinin/tests/mocks/imgs/dog/do...\n",
       "3  ../cytokinin/cytokinin/tests/mocks/imgs/dog/do...\n",
       "4  ../cytokinin/cytokinin/tests/mocks/imgs/dog/do..."
      ]
     },
     "execution_count": 11,
     "metadata": {},
     "output_type": "execute_result"
    }
   ],
   "source": [
    "df = pd.DataFrame({'files': flist})\n",
    "df.head()"
   ]
  },
  {
   "cell_type": "code",
   "execution_count": 12,
   "metadata": {},
   "outputs": [
    {
     "data": {
      "text/plain": [
       "0    ../cytokinin/cytokinin/tests/mocks/imgs/stone/...\n",
       "1    ../cytokinin/cytokinin/tests/mocks/imgs/dog/do...\n",
       "2    ../cytokinin/cytokinin/tests/mocks/imgs/dog/do...\n",
       "3    ../cytokinin/cytokinin/tests/mocks/imgs/stone/...\n",
       "4    ../cytokinin/cytokinin/tests/mocks/imgs/dog/do...\n",
       "Name: data15783445963142507, dtype: object"
      ]
     },
     "execution_count": 12,
     "metadata": {},
     "output_type": "execute_result"
    }
   ],
   "source": [
    "imgs = take_data('images')\n",
    "imgs.store_filesnames_from_df(df, 'files') #hold uniques\n",
    "imgs.filesnames.head()"
   ]
  },
  {
   "cell_type": "markdown",
   "metadata": {},
   "source": [
    "### Load from folder"
   ]
  },
  {
   "cell_type": "code",
   "execution_count": 13,
   "metadata": {},
   "outputs": [
    {
     "data": {
      "text/plain": [
       "0    ../cytokinin/cytokinin/tests/mocks/imgs/dog/do...\n",
       "1    ../cytokinin/cytokinin/tests/mocks/imgs/dog/do...\n",
       "2    ../cytokinin/cytokinin/tests/mocks/imgs/dog/do...\n",
       "3    ../cytokinin/cytokinin/tests/mocks/imgs/dog/do...\n",
       "4    ../cytokinin/cytokinin/tests/mocks/imgs/dog/do...\n",
       "Name: data15783445963918128, dtype: object"
      ]
     },
     "execution_count": 13,
     "metadata": {},
     "output_type": "execute_result"
    }
   ],
   "source": [
    "dogs_folder = IMGS.joinpath('dog')\n",
    "dogs = take_data('images').store_filesnames_from_folder(dogs_folder)\n",
    "dogs.filesnames.head()"
   ]
  },
  {
   "cell_type": "markdown",
   "metadata": {},
   "source": [
    "### Load from folder interactively"
   ]
  },
  {
   "cell_type": "markdown",
   "metadata": {},
   "source": [
    "Here you select a wrong folder"
   ]
  },
  {
   "cell_type": "code",
   "execution_count": 14,
   "metadata": {},
   "outputs": [
    {
     "name": "stderr",
     "output_type": "stream",
     "text": [
      "DEBUG:matplotlib.pyplot:Loaded backend module://ipykernel.pylab.backend_inline version unknown.\n",
      "DEBUG:matplotlib.pyplot:Loaded backend module://ipykernel.pylab.backend_inline version unknown.\n"
     ]
    }
   ],
   "source": [
    "dogs = take_data('images')\n",
    "try:\n",
    "    dogs.store_filesnames_from_folder(gui=True, include_subdirs=False)\n",
    "except Exception as e:\n",
    "    print(e)\n",
    "    print(f'filesnames:\\n{dogs.filesnames}')"
   ]
  },
  {
   "cell_type": "markdown",
   "metadata": {},
   "source": [
    "Here you select a good folder, containing images"
   ]
  },
  {
   "cell_type": "code",
   "execution_count": 15,
   "metadata": {},
   "outputs": [
    {
     "data": {
      "text/plain": [
       "0    /home/gian/Scrivania/github/cytokinin/tutorial...\n",
       "1    /home/gian/Scrivania/github/cytokinin/tutorial...\n",
       "2    /home/gian/Scrivania/github/cytokinin/tutorial...\n",
       "Name: data15783446005680225, dtype: object"
      ]
     },
     "execution_count": 15,
     "metadata": {},
     "output_type": "execute_result"
    }
   ],
   "source": [
    "dogs = take_data('images')\n",
    "dogs.store_filesnames_from_folder(gui=True, include_subdirs=True)\n",
    "dogs.filesnames.head()"
   ]
  },
  {
   "cell_type": "markdown",
   "metadata": {},
   "source": [
    "## Adding data"
   ]
  },
  {
   "cell_type": "markdown",
   "metadata": {},
   "source": [
    "### add from Data"
   ]
  },
  {
   "cell_type": "code",
   "execution_count": null,
   "metadata": {},
   "outputs": [],
   "source": [
    "dogs_folder = IMGS.joinpath('dog')\n",
    "dogs = take_data('images').store_filesnames_from_folder(dogs_folder)\n",
    "stones_folder = IMGS.joinpath('stone')\n",
    "stones = take_data('images').store_filesnames_from_folder(stones_folder)"
   ]
  },
  {
   "cell_type": "code",
   "execution_count": null,
   "metadata": {},
   "outputs": [],
   "source": [
    "dogs_and_stones = dogs.copy()\n",
    "str(dogs_and_stones)"
   ]
  },
  {
   "cell_type": "code",
   "execution_count": null,
   "metadata": {},
   "outputs": [],
   "source": [
    "dogs_and_stones.add_from_data(stones)\n",
    "str(dogs_and_stones)"
   ]
  },
  {
   "cell_type": "markdown",
   "metadata": {},
   "source": [
    "## Label"
   ]
  },
  {
   "cell_type": "markdown",
   "metadata": {},
   "source": [
    "### from filesnames folder"
   ]
  },
  {
   "cell_type": "code",
   "execution_count": null,
   "metadata": {},
   "outputs": [],
   "source": [
    "dogs_and_stones.label_from_folder()\n",
    "print(dogs_and_stones.labels.unique())\n",
    "dogs_and_stones.labels.value_counts()"
   ]
  },
  {
   "cell_type": "markdown",
   "metadata": {},
   "source": [
    "### from csv file"
   ]
  },
  {
   "cell_type": "code",
   "execution_count": null,
   "metadata": {},
   "outputs": [],
   "source": [
    "# Load dogs images\n",
    "dogs = take_data('images').store_filesnames_from_folder(IMGS/'dog')\n",
    "# Load stones images\n",
    "stones = take_data('images').store_filesnames_from_folder(IMGS/'stone')\n",
    "# Merge Data set\n",
    "dogs_and_stones2 = dogs.copy().add_from_data(stones)\n",
    "print(dogs_and_stones2)\n",
    "\n",
    "# Label the resulting Data set\n",
    "csv_url = MOCKS/'labels'/'dogsandstones_labes.csv'\n",
    "dogs_and_stones2.label_from_csv(csv_url, col='Y')\n",
    "print(dogs_and_stones2)"
   ]
  },
  {
   "cell_type": "markdown",
   "metadata": {},
   "source": [
    "### from CSV file interactively"
   ]
  },
  {
   "cell_type": "code",
   "execution_count": null,
   "metadata": {},
   "outputs": [],
   "source": [
    "# dogs_and_stones2 = dogs.copy()\n",
    "# dogs_and_stones2.add_from_data(stones)\n",
    "# print(dogs_and_stones)\n",
    "# dogs_and_stones.label_from_csv(csv_url, gui=True)\n",
    "# print(dogs_and_stones)"
   ]
  },
  {
   "cell_type": "markdown",
   "metadata": {},
   "source": [
    "________________"
   ]
  },
  {
   "cell_type": "markdown",
   "metadata": {},
   "source": [
    "To finish"
   ]
  },
  {
   "cell_type": "code",
   "execution_count": 16,
   "metadata": {},
   "outputs": [
    {
     "name": "stdout",
     "output_type": "stream",
     "text": [
      "Object <class 'cytokinin.data.Data'>, of data type \"images\"\n",
      ",             75 file paths stored\n",
      "             0 labels stored.\n",
      "Object <class 'cytokinin.data.Data'>, of data type \"images\"\n",
      ",             75 file paths stored\n",
      "             75 labels stored.\n"
     ]
    }
   ],
   "source": [
    "# Load dogs images\n",
    "dogs = take_data('images').store_filesnames_from_folder(IMGS/'dog')\n",
    "# Load stones images\n",
    "stones = take_data('images').store_filesnames_from_folder(IMGS/'stone')\n",
    "# Merge Data set\n",
    "dogs_and_stones2 = dogs.copy().add_from_data(stones)\n",
    "print(dogs_and_stones2)\n",
    "\n",
    "# Label the resulting Data set\n",
    "csv_url = MOCKS/'labels'/'dogsandstones_labes.csv'\n",
    "dogs_and_stones2.label_from_csv(csv_url, col='Y')\n",
    "print(dogs_and_stones2)"
   ]
  },
  {
   "cell_type": "code",
   "execution_count": 13,
   "metadata": {},
   "outputs": [],
   "source": [
    "from pathlib import Path\n",
    "\n",
    "import tkinter as tk\n",
    "from cytokinin.utils.funx import infer_file_cols_dtypes\n",
    "\n"
   ]
  },
  {
   "cell_type": "code",
   "execution_count": 15,
   "metadata": {},
   "outputs": [
    {
     "data": {
      "text/plain": [
       "'Unnamed: 0'"
      ]
     },
     "execution_count": 15,
     "metadata": {},
     "output_type": "execute_result"
    }
   ],
   "source": [
    "root = Path('./../') # quite the same as str\n",
    "MOCKS = root.joinpath('./cytokinin/cytokinin/tests/mocks/')\n",
    "csv_url = MOCKS/'labels'/'dogsandstones_labes.csv'\n",
    "\n",
    "chosen_col = select_df_col(csv_url, ftype='csv')\n",
    "chosen_col"
   ]
  },
  {
   "cell_type": "markdown",
   "metadata": {},
   "source": [
    "_____________"
   ]
  },
  {
   "cell_type": "markdown",
   "metadata": {},
   "source": [
    "## Print"
   ]
  },
  {
   "cell_type": "code",
   "execution_count": null,
   "metadata": {},
   "outputs": [],
   "source": [
    "print(dogs)"
   ]
  },
  {
   "cell_type": "markdown",
   "metadata": {},
   "source": [
    "## TO"
   ]
  },
  {
   "cell_type": "markdown",
   "metadata": {},
   "source": [
    "### to Paths list"
   ]
  },
  {
   "cell_type": "code",
   "execution_count": null,
   "metadata": {},
   "outputs": [],
   "source": [
    "top_3_as_pathlist = dogs.to('pathlist')[:3]\n",
    "print(f'shape: {np.shape(top_3_as_pathlist)}')\n",
    "top_3_as_pathlist"
   ]
  },
  {
   "cell_type": "markdown",
   "metadata": {},
   "source": [
    "### to list"
   ]
  },
  {
   "cell_type": "code",
   "execution_count": null,
   "metadata": {},
   "outputs": [],
   "source": [
    "top_3_as_list = dogs.to('list')[:3]\n",
    "print(f'shape: {np.shape(top_3_as_list)}')\n",
    "top_3_as_list"
   ]
  },
  {
   "cell_type": "markdown",
   "metadata": {},
   "source": [
    "### to Array"
   ]
  },
  {
   "cell_type": "code",
   "execution_count": null,
   "metadata": {},
   "outputs": [],
   "source": [
    "top_3_as_array = dogs.to('arrays')[:3] # array_mode=['rgb', 'gray', 'grey']\n",
    "print(f'shape: {np.shape(top_3_as_array)}')\n",
    "top_3_as_array"
   ]
  },
  {
   "cell_type": "markdown",
   "metadata": {},
   "source": [
    "### to Pandas.DataFrame"
   ]
  },
  {
   "cell_type": "code",
   "execution_count": null,
   "metadata": {},
   "outputs": [],
   "source": [
    "top_3_as_df = dogs.to('dataframe')[:3]\n",
    "print(f'shape: {np.shape(top_3_as_df)}')\n",
    "top_3_as_df"
   ]
  },
  {
   "cell_type": "markdown",
   "metadata": {},
   "source": [
    "### to Pandas.Series"
   ]
  },
  {
   "cell_type": "code",
   "execution_count": null,
   "metadata": {},
   "outputs": [],
   "source": [
    "top_3_as_series = dogs.to('series')[:3]\n",
    "print(f'shape: {np.shape(top_3_as_series)}')\n",
    "top_3_as_series"
   ]
  },
  {
   "cell_type": "code",
   "execution_count": null,
   "metadata": {},
   "outputs": [],
   "source": []
  },
  {
   "cell_type": "code",
   "execution_count": null,
   "metadata": {},
   "outputs": [],
   "source": []
  },
  {
   "cell_type": "markdown",
   "metadata": {},
   "source": [
    "### Export to fastAI"
   ]
  }
 ],
 "metadata": {
  "kernelspec": {
   "display_name": "Python 3",
   "language": "python",
   "name": "python3"
  },
  "language_info": {
   "codemirror_mode": {
    "name": "ipython",
    "version": 3
   },
   "file_extension": ".py",
   "mimetype": "text/x-python",
   "name": "python",
   "nbconvert_exporter": "python",
   "pygments_lexer": "ipython3",
   "version": "3.7.3"
  }
 },
 "nbformat": 4,
 "nbformat_minor": 2
}
