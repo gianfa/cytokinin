{
 "cells": [
  {
   "cell_type": "markdown",
   "metadata": {},
   "source": [
    "# Data retrieving"
   ]
  },
  {
   "cell_type": "code",
   "execution_count": 1,
   "metadata": {},
   "outputs": [
    {
     "name": "stdout",
     "output_type": "stream",
     "text": [
      "/home/gian/Scrivania/github/cytokinin/tutorials\r\n"
     ]
    }
   ],
   "source": [
    "!pwd"
   ]
  },
  {
   "cell_type": "code",
   "execution_count": 2,
   "metadata": {},
   "outputs": [
    {
     "name": "stdout",
     "output_type": "stream",
     "text": [
      "Uninstalling cytokinin-0.0.1:\r\n",
      "  Successfully uninstalled cytokinin-0.0.1\r\n"
     ]
    }
   ],
   "source": [
    "!pip uninstall cytokinin -y"
   ]
  },
  {
   "cell_type": "code",
   "execution_count": 3,
   "metadata": {},
   "outputs": [
    {
     "name": "stdout",
     "output_type": "stream",
     "text": [
      "Processing /home/gian/Scrivania/github/cytokinin/cytokinin\n",
      "Requirement already satisfied: numpy in /home/gian/anaconda3/envs/py38ml/lib/python3.7/site-packages (from cytokinin==0.0.1) (1.17.4)\n",
      "Requirement already satisfied: matplotlib in /home/gian/anaconda3/envs/py38ml/lib/python3.7/site-packages (from cytokinin==0.0.1) (3.1.2)\n",
      "Requirement already satisfied: pandas>=0.25.3 in /home/gian/anaconda3/envs/py38ml/lib/python3.7/site-packages (from cytokinin==0.0.1) (0.25.3)\n",
      "Requirement already satisfied: opencv-python>=4.1.0 in /home/gian/anaconda3/envs/py38ml/lib/python3.7/site-packages (from cytokinin==0.0.1) (4.1.2.30)\n",
      "Requirement already satisfied: pyparsing!=2.0.4,!=2.1.2,!=2.1.6,>=2.0.1 in /home/gian/anaconda3/envs/py38ml/lib/python3.7/site-packages (from matplotlib->cytokinin==0.0.1) (2.4.5)\n",
      "Requirement already satisfied: kiwisolver>=1.0.1 in /home/gian/anaconda3/envs/py38ml/lib/python3.7/site-packages (from matplotlib->cytokinin==0.0.1) (1.1.0)\n",
      "Requirement already satisfied: python-dateutil>=2.1 in /home/gian/anaconda3/envs/py38ml/lib/python3.7/site-packages (from matplotlib->cytokinin==0.0.1) (2.8.1)\n",
      "Requirement already satisfied: cycler>=0.10 in /home/gian/anaconda3/envs/py38ml/lib/python3.7/site-packages (from matplotlib->cytokinin==0.0.1) (0.10.0)\n",
      "Requirement already satisfied: pytz>=2017.2 in /home/gian/anaconda3/envs/py38ml/lib/python3.7/site-packages (from pandas>=0.25.3->cytokinin==0.0.1) (2019.3)\n",
      "Requirement already satisfied: setuptools in /home/gian/anaconda3/envs/py38ml/lib/python3.7/site-packages (from kiwisolver>=1.0.1->matplotlib->cytokinin==0.0.1) (42.0.2.post20191203)\n",
      "Requirement already satisfied: six>=1.5 in /home/gian/anaconda3/envs/py38ml/lib/python3.7/site-packages (from python-dateutil>=2.1->matplotlib->cytokinin==0.0.1) (1.13.0)\n",
      "Building wheels for collected packages: cytokinin\n",
      "  Building wheel for cytokinin (setup.py) ... \u001b[?25ldone\n",
      "\u001b[?25h  Created wheel for cytokinin: filename=cytokinin-0.0.1-cp37-none-any.whl size=12844 sha256=5bf6d74d5d66ba8da631466390abcd3f6e6749b492eefc6e959dff5d551705de\n",
      "  Stored in directory: /tmp/pip-ephem-wheel-cache-7oaoe1fm/wheels/20/e3/ab/fd92d6e1db4dfa1a64713490d13b91970b9fc4d91d15b9af00\n",
      "Successfully built cytokinin\n",
      "Installing collected packages: cytokinin\n",
      "Successfully installed cytokinin-0.0.1\n"
     ]
    }
   ],
   "source": [
    "!pip install ./../cytokinin"
   ]
  },
  {
   "cell_type": "code",
   "execution_count": 4,
   "metadata": {},
   "outputs": [],
   "source": [
    "import os\n",
    "import json\n",
    "import numpy as np\n",
    "import pandas as pd\n",
    "from pathlib import Path"
   ]
  },
  {
   "cell_type": "code",
   "execution_count": 5,
   "metadata": {},
   "outputs": [],
   "source": [
    "import cytokinin as ck"
   ]
  },
  {
   "cell_type": "code",
   "execution_count": 6,
   "metadata": {},
   "outputs": [],
   "source": [
    "root = Path('./../') # quite the same as str"
   ]
  },
  {
   "cell_type": "code",
   "execution_count": 7,
   "metadata": {},
   "outputs": [
    {
     "data": {
      "text/plain": [
       "['dog', 'stone']"
      ]
     },
     "execution_count": 7,
     "metadata": {},
     "output_type": "execute_result"
    }
   ],
   "source": [
    "# Set an example dir for images files\n",
    "MOCKS = root.joinpath('./cytokinin/cytokinin/tests/mocks/')\n",
    "IMGS = MOCKS/'imgs' # this is another Path object\n",
    "os.listdir(str(IMGS))"
   ]
  },
  {
   "cell_type": "markdown",
   "metadata": {},
   "source": [
    "## Load data"
   ]
  },
  {
   "cell_type": "markdown",
   "metadata": {},
   "source": [
    "### Load from list"
   ]
  },
  {
   "cell_type": "code",
   "execution_count": 8,
   "metadata": {},
   "outputs": [
    {
     "data": {
      "text/plain": [
       "['../cytokinin/cytokinin/tests/mocks/imgs/dog/dog_35.jpeg',\n",
       " '../cytokinin/cytokinin/tests/mocks/imgs/dog/dog_19.jpeg',\n",
       " '../cytokinin/cytokinin/tests/mocks/imgs/dog/dog_31.jpeg',\n",
       " '../cytokinin/cytokinin/tests/mocks/imgs/dog/dog_8.jpg',\n",
       " '../cytokinin/cytokinin/tests/mocks/imgs/dog/dog_13.jpg']"
      ]
     },
     "execution_count": 8,
     "metadata": {},
     "output_type": "execute_result"
    }
   ],
   "source": [
    "flist = []\n",
    "for root, dirs, files in os.walk(IMGS, topdown=False):\n",
    "    for f in files:\n",
    "        flist.append(os.path.join(root, f))\n",
    "flist[:5]"
   ]
  },
  {
   "cell_type": "code",
   "execution_count": 9,
   "metadata": {},
   "outputs": [
    {
     "name": "stderr",
     "output_type": "stream",
     "text": [
      "INFO:root:CYTOKININ LOADED\n"
     ]
    },
    {
     "data": {
      "text/plain": [
       "<cytokinin.data.Data at 0x7f0e1c5a8990>"
      ]
     },
     "execution_count": 9,
     "metadata": {},
     "output_type": "execute_result"
    }
   ],
   "source": [
    "from cytokinin.data import take_data\n",
    "imgs = take_data('images')\n",
    "imgs"
   ]
  },
  {
   "cell_type": "code",
   "execution_count": 10,
   "metadata": {},
   "outputs": [
    {
     "data": {
      "text/plain": [
       "0    ../cytokinin/cytokinin/tests/mocks/imgs/dog/do...\n",
       "1    ../cytokinin/cytokinin/tests/mocks/imgs/stone/...\n",
       "2    ../cytokinin/cytokinin/tests/mocks/imgs/dog/do...\n",
       "3    ../cytokinin/cytokinin/tests/mocks/imgs/dog/do...\n",
       "4    ../cytokinin/cytokinin/tests/mocks/imgs/dog/do...\n",
       "Name: data15785056102272701, dtype: object"
      ]
     },
     "execution_count": 10,
     "metadata": {},
     "output_type": "execute_result"
    }
   ],
   "source": [
    "imgs.store_filesnames_from_list(flist) # load\n",
    "imgs.filesnames.head() #show"
   ]
  },
  {
   "cell_type": "markdown",
   "metadata": {},
   "source": [
    "### Load from DataFrame"
   ]
  },
  {
   "cell_type": "code",
   "execution_count": 11,
   "metadata": {},
   "outputs": [
    {
     "data": {
      "text/html": [
       "<div>\n",
       "<style scoped>\n",
       "    .dataframe tbody tr th:only-of-type {\n",
       "        vertical-align: middle;\n",
       "    }\n",
       "\n",
       "    .dataframe tbody tr th {\n",
       "        vertical-align: top;\n",
       "    }\n",
       "\n",
       "    .dataframe thead th {\n",
       "        text-align: right;\n",
       "    }\n",
       "</style>\n",
       "<table border=\"1\" class=\"dataframe\">\n",
       "  <thead>\n",
       "    <tr style=\"text-align: right;\">\n",
       "      <th></th>\n",
       "      <th>files</th>\n",
       "    </tr>\n",
       "  </thead>\n",
       "  <tbody>\n",
       "    <tr>\n",
       "      <th>0</th>\n",
       "      <td>../cytokinin/cytokinin/tests/mocks/imgs/dog/do...</td>\n",
       "    </tr>\n",
       "    <tr>\n",
       "      <th>1</th>\n",
       "      <td>../cytokinin/cytokinin/tests/mocks/imgs/dog/do...</td>\n",
       "    </tr>\n",
       "    <tr>\n",
       "      <th>2</th>\n",
       "      <td>../cytokinin/cytokinin/tests/mocks/imgs/dog/do...</td>\n",
       "    </tr>\n",
       "    <tr>\n",
       "      <th>3</th>\n",
       "      <td>../cytokinin/cytokinin/tests/mocks/imgs/dog/do...</td>\n",
       "    </tr>\n",
       "    <tr>\n",
       "      <th>4</th>\n",
       "      <td>../cytokinin/cytokinin/tests/mocks/imgs/dog/do...</td>\n",
       "    </tr>\n",
       "  </tbody>\n",
       "</table>\n",
       "</div>"
      ],
      "text/plain": [
       "                                               files\n",
       "0  ../cytokinin/cytokinin/tests/mocks/imgs/dog/do...\n",
       "1  ../cytokinin/cytokinin/tests/mocks/imgs/dog/do...\n",
       "2  ../cytokinin/cytokinin/tests/mocks/imgs/dog/do...\n",
       "3  ../cytokinin/cytokinin/tests/mocks/imgs/dog/do...\n",
       "4  ../cytokinin/cytokinin/tests/mocks/imgs/dog/do..."
      ]
     },
     "execution_count": 11,
     "metadata": {},
     "output_type": "execute_result"
    }
   ],
   "source": [
    "df = pd.DataFrame({'files': flist})\n",
    "df.head()"
   ]
  },
  {
   "cell_type": "code",
   "execution_count": 12,
   "metadata": {},
   "outputs": [
    {
     "data": {
      "text/plain": [
       "0    ../cytokinin/cytokinin/tests/mocks/imgs/dog/do...\n",
       "1    ../cytokinin/cytokinin/tests/mocks/imgs/stone/...\n",
       "2    ../cytokinin/cytokinin/tests/mocks/imgs/dog/do...\n",
       "3    ../cytokinin/cytokinin/tests/mocks/imgs/dog/do...\n",
       "4    ../cytokinin/cytokinin/tests/mocks/imgs/dog/do...\n",
       "Name: data1578505610607414, dtype: object"
      ]
     },
     "execution_count": 12,
     "metadata": {},
     "output_type": "execute_result"
    }
   ],
   "source": [
    "imgs = take_data('images')\n",
    "imgs.store_filesnames_from_df(df, 'files') #hold uniques\n",
    "imgs.filesnames.head()"
   ]
  },
  {
   "cell_type": "markdown",
   "metadata": {},
   "source": [
    "### Load from folder"
   ]
  },
  {
   "cell_type": "code",
   "execution_count": 16,
   "metadata": {},
   "outputs": [
    {
     "data": {
      "text/plain": [
       "0    ../cytokinin/cytokinin/tests/mocks/imgs/dog/do...\n",
       "1    ../cytokinin/cytokinin/tests/mocks/imgs/dog/do...\n",
       "2    ../cytokinin/cytokinin/tests/mocks/imgs/dog/do...\n",
       "3    ../cytokinin/cytokinin/tests/mocks/imgs/dog/do...\n",
       "4    ../cytokinin/cytokinin/tests/mocks/imgs/dog/do...\n",
       "Name: data1578505628398423, dtype: object"
      ]
     },
     "execution_count": 16,
     "metadata": {},
     "output_type": "execute_result"
    }
   ],
   "source": [
    "dogs_folder = IMGS.joinpath('dog')\n",
    "dogs = take_data('images').store_filesnames_from_folder(dogs_folder)\n",
    "dogs.filesnames.head()"
   ]
  },
  {
   "cell_type": "markdown",
   "metadata": {},
   "source": [
    "### Load from folder interactively"
   ]
  },
  {
   "cell_type": "markdown",
   "metadata": {},
   "source": [
    "Here you select a wrong folder"
   ]
  },
  {
   "cell_type": "code",
   "execution_count": 17,
   "metadata": {},
   "outputs": [],
   "source": [
    "dogs = take_data('images')\n",
    "try:\n",
    "    dogs.store_filesnames_from_folder(gui=True, include_subdirs=False)\n",
    "except Exception as e:\n",
    "    print(e)\n",
    "    print(f'filesnames:\\n{dogs.filesnames}')"
   ]
  },
  {
   "cell_type": "markdown",
   "metadata": {},
   "source": [
    "Here you select a good folder, containing images"
   ]
  },
  {
   "cell_type": "code",
   "execution_count": 18,
   "metadata": {},
   "outputs": [
    {
     "data": {
      "text/plain": [
       "0    /home/gian/Scrivania/github/cytokinin/cytokini...\n",
       "1    /home/gian/Scrivania/github/cytokinin/cytokini...\n",
       "2    /home/gian/Scrivania/github/cytokinin/cytokini...\n",
       "3    /home/gian/Scrivania/github/cytokinin/cytokini...\n",
       "4    /home/gian/Scrivania/github/cytokinin/cytokini...\n",
       "Name: data15785056435063086, dtype: object"
      ]
     },
     "execution_count": 18,
     "metadata": {},
     "output_type": "execute_result"
    }
   ],
   "source": [
    "dogs = take_data('images')\n",
    "dogs.store_filesnames_from_folder(gui=True, include_subdirs=True)\n",
    "dogs.filesnames.head()"
   ]
  },
  {
   "cell_type": "markdown",
   "metadata": {},
   "source": [
    "## Adding data"
   ]
  },
  {
   "cell_type": "markdown",
   "metadata": {},
   "source": [
    "### add from Data"
   ]
  },
  {
   "cell_type": "code",
   "execution_count": 19,
   "metadata": {},
   "outputs": [],
   "source": [
    "dogs_folder = IMGS.joinpath('dog')\n",
    "dogs = take_data('images').store_filesnames_from_folder(dogs_folder)\n",
    "stones_folder = IMGS.joinpath('stone')\n",
    "stones = take_data('images').store_filesnames_from_folder(stones_folder)"
   ]
  },
  {
   "cell_type": "code",
   "execution_count": 21,
   "metadata": {},
   "outputs": [
    {
     "name": "stdout",
     "output_type": "stream",
     "text": [
      "Object <class 'cytokinin.data.Data'>, of data type \"images\"\n",
      ",             35 file paths stored\n",
      "             0 labels stored.\n"
     ]
    }
   ],
   "source": [
    "dogs_and_stones = dogs.copy()\n",
    "print(dogs_and_stones)"
   ]
  },
  {
   "cell_type": "code",
   "execution_count": 22,
   "metadata": {},
   "outputs": [
    {
     "name": "stdout",
     "output_type": "stream",
     "text": [
      "Object <class 'cytokinin.data.Data'>, of data type \"images\"\n",
      ",             75 file paths stored\n",
      "             0 labels stored.\n"
     ]
    }
   ],
   "source": [
    "dogs_and_stones.add_from_data(stones)\n",
    "print(dogs_and_stones)"
   ]
  },
  {
   "cell_type": "markdown",
   "metadata": {},
   "source": [
    "## Label"
   ]
  },
  {
   "cell_type": "markdown",
   "metadata": {},
   "source": [
    "### from filesnames folder"
   ]
  },
  {
   "cell_type": "code",
   "execution_count": 23,
   "metadata": {},
   "outputs": [
    {
     "name": "stdout",
     "output_type": "stream",
     "text": [
      "['dog' 'stone']\n"
     ]
    },
    {
     "data": {
      "text/plain": [
       "stone    40\n",
       "dog      35\n",
       "Name: data1578505667260263, dtype: int64"
      ]
     },
     "execution_count": 23,
     "metadata": {},
     "output_type": "execute_result"
    }
   ],
   "source": [
    "dogs_and_stones.label_from_folder()\n",
    "# Let's see what it loaded\n",
    "print(dogs_and_stones.labels.unique())\n",
    "dogs_and_stones.labels.value_counts()"
   ]
  },
  {
   "cell_type": "markdown",
   "metadata": {},
   "source": [
    "### from csv file"
   ]
  },
  {
   "cell_type": "code",
   "execution_count": 27,
   "metadata": {},
   "outputs": [
    {
     "name": "stderr",
     "output_type": "stream",
     "text": [
      "DEBUG:root:COL: Y\n"
     ]
    },
    {
     "name": "stdout",
     "output_type": "stream",
     "text": [
      "Before:\n",
      "Object <class 'cytokinin.data.Data'>, of data type \"images\"\n",
      ",             75 file paths stored\n",
      "             0 labels stored.\n",
      "After:\n",
      "Object <class 'cytokinin.data.Data'>, of data type \"images\"\n",
      ",             75 file paths stored\n",
      "             75 labels stored.\n"
     ]
    }
   ],
   "source": [
    "# Load dogs images\n",
    "dogs = take_data('images').store_filesnames_from_folder(IMGS/'dog')\n",
    "# Load stones images\n",
    "stones = take_data('images').store_filesnames_from_folder(IMGS/'stone')\n",
    "# Merge Data set\n",
    "dogs_and_stones2 = dogs.copy().add_from_data(stones)\n",
    "print(f'Before:\\n{dogs_and_stones2}')\n",
    "\n",
    "# Label the resulting Data set\n",
    "csv_url = MOCKS/'labels'/'dogsandstones_labes.csv'\n",
    "dogs_and_stones2.label_from_csv(csv_url, col='Y')\n",
    "print(f'After:\\n{dogs_and_stones2}')"
   ]
  },
  {
   "cell_type": "markdown",
   "metadata": {},
   "source": [
    "### from CSV file interactively"
   ]
  },
  {
   "cell_type": "code",
   "execution_count": 34,
   "metadata": {},
   "outputs": [],
   "source": [
    "## Experimental! Available soon...\n",
    "# dogs_and_stones2 = dogs.copy()\n",
    "# dogs_and_stones2.add_from_data(stones)\n",
    "# print(dogs_and_stones)\n",
    "# dogs_and_stones.label_from_csv(csv_url, gui=True)\n",
    "# print(dogs_and_stones)"
   ]
  },
  {
   "cell_type": "markdown",
   "metadata": {},
   "source": [
    "## Print"
   ]
  },
  {
   "cell_type": "code",
   "execution_count": 28,
   "metadata": {},
   "outputs": [
    {
     "name": "stdout",
     "output_type": "stream",
     "text": [
      "Object <class 'cytokinin.data.Data'>, of data type \"images\"\n",
      ",             35 file paths stored\n",
      "             0 labels stored.\n"
     ]
    }
   ],
   "source": [
    "print(dogs)"
   ]
  },
  {
   "cell_type": "markdown",
   "metadata": {},
   "source": [
    "## TO"
   ]
  },
  {
   "cell_type": "markdown",
   "metadata": {},
   "source": [
    "### to Paths list"
   ]
  },
  {
   "cell_type": "code",
   "execution_count": 29,
   "metadata": {},
   "outputs": [
    {
     "name": "stdout",
     "output_type": "stream",
     "text": [
      "shape: (3,)\n"
     ]
    },
    {
     "data": {
      "text/plain": [
       "[PosixPath('../cytokinin/cytokinin/tests/mocks/imgs/dog/dog_18.jpg'),\n",
       " PosixPath('../cytokinin/cytokinin/tests/mocks/imgs/dog/dog_22.jpg'),\n",
       " PosixPath('../cytokinin/cytokinin/tests/mocks/imgs/dog/dog_3.jpeg')]"
      ]
     },
     "execution_count": 29,
     "metadata": {},
     "output_type": "execute_result"
    }
   ],
   "source": [
    "top_3_as_pathlist = dogs.to('pathlist')[:3]\n",
    "print(f'shape: {np.shape(top_3_as_pathlist)}')\n",
    "top_3_as_pathlist"
   ]
  },
  {
   "cell_type": "markdown",
   "metadata": {},
   "source": [
    "### to list"
   ]
  },
  {
   "cell_type": "code",
   "execution_count": 30,
   "metadata": {},
   "outputs": [
    {
     "name": "stdout",
     "output_type": "stream",
     "text": [
      "shape: (3,)\n"
     ]
    },
    {
     "data": {
      "text/plain": [
       "['../cytokinin/cytokinin/tests/mocks/imgs/dog/dog_18.jpg',\n",
       " '../cytokinin/cytokinin/tests/mocks/imgs/dog/dog_22.jpg',\n",
       " '../cytokinin/cytokinin/tests/mocks/imgs/dog/dog_3.jpeg']"
      ]
     },
     "execution_count": 30,
     "metadata": {},
     "output_type": "execute_result"
    }
   ],
   "source": [
    "top_3_as_list = dogs.to('list')[:3]\n",
    "print(f'shape: {np.shape(top_3_as_list)}')\n",
    "top_3_as_list"
   ]
  },
  {
   "cell_type": "markdown",
   "metadata": {},
   "source": [
    "### to Array"
   ]
  },
  {
   "cell_type": "code",
   "execution_count": 31,
   "metadata": {},
   "outputs": [
    {
     "name": "stdout",
     "output_type": "stream",
     "text": [
      "shape: (3,)\n"
     ]
    },
    {
     "data": {
      "text/plain": [
       "[array([[[ 33,  30,  26],\n",
       "         [ 33,  30,  26],\n",
       "         [ 35,  32,  28],\n",
       "         ...,\n",
       "         [147, 145, 135],\n",
       "         [147, 145, 135],\n",
       "         [147, 145, 135]],\n",
       " \n",
       "        [[ 33,  30,  26],\n",
       "         [ 33,  30,  26],\n",
       "         [ 35,  32,  28],\n",
       "         ...,\n",
       "         [147, 145, 135],\n",
       "         [147, 145, 135],\n",
       "         [147, 145, 135]],\n",
       " \n",
       "        [[ 33,  30,  26],\n",
       "         [ 33,  30,  26],\n",
       "         [ 35,  32,  28],\n",
       "         ...,\n",
       "         [147, 145, 135],\n",
       "         [147, 145, 135],\n",
       "         [147, 145, 135]],\n",
       " \n",
       "        ...,\n",
       " \n",
       "        [[ 67, 133, 238],\n",
       "         [ 67, 133, 238],\n",
       "         [ 68, 134, 239],\n",
       "         ...,\n",
       "         [ 98, 149, 235],\n",
       "         [ 98, 149, 235],\n",
       "         [ 98, 149, 235]],\n",
       " \n",
       "        [[ 67, 133, 238],\n",
       "         [ 67, 133, 238],\n",
       "         [ 68, 134, 239],\n",
       "         ...,\n",
       "         [ 98, 149, 235],\n",
       "         [ 98, 149, 235],\n",
       "         [ 98, 149, 235]],\n",
       " \n",
       "        [[ 67, 133, 238],\n",
       "         [ 67, 133, 238],\n",
       "         [ 68, 134, 239],\n",
       "         ...,\n",
       "         [ 98, 149, 235],\n",
       "         [ 98, 149, 235],\n",
       "         [ 98, 149, 235]]], dtype=uint8), array([[[209, 207, 207],\n",
       "         [209, 207, 207],\n",
       "         [210, 208, 208],\n",
       "         ...,\n",
       "         [187, 179, 179],\n",
       "         [188, 180, 180],\n",
       "         [188, 180, 180]],\n",
       " \n",
       "        [[210, 208, 208],\n",
       "         [210, 208, 208],\n",
       "         [210, 208, 208],\n",
       "         ...,\n",
       "         [187, 179, 179],\n",
       "         [188, 180, 180],\n",
       "         [189, 181, 181]],\n",
       " \n",
       "        [[210, 208, 208],\n",
       "         [210, 208, 208],\n",
       "         [210, 208, 208],\n",
       "         ...,\n",
       "         [187, 179, 179],\n",
       "         [188, 180, 180],\n",
       "         [189, 181, 181]],\n",
       " \n",
       "        ...,\n",
       " \n",
       "        [[141, 136, 133],\n",
       "         [140, 135, 132],\n",
       "         [149, 144, 141],\n",
       "         ...,\n",
       "         [141, 136, 135],\n",
       "         [142, 137, 136],\n",
       "         [143, 138, 137]],\n",
       " \n",
       "        [[150, 145, 142],\n",
       "         [140, 135, 132],\n",
       "         [145, 140, 137],\n",
       "         ...,\n",
       "         [142, 137, 136],\n",
       "         [144, 139, 138],\n",
       "         [145, 140, 139]],\n",
       " \n",
       "        [[162, 157, 154],\n",
       "         [141, 136, 133],\n",
       "         [141, 136, 133],\n",
       "         ...,\n",
       "         [142, 137, 136],\n",
       "         [145, 140, 139],\n",
       "         [146, 141, 140]]], dtype=uint8), array([[[212, 209, 205],\n",
       "         [212, 209, 205],\n",
       "         [207, 206, 202],\n",
       "         ...,\n",
       "         [245, 232, 224],\n",
       "         [243, 228, 219],\n",
       "         [240, 226, 214]],\n",
       " \n",
       "        [[211, 208, 204],\n",
       "         [212, 209, 205],\n",
       "         [208, 205, 201],\n",
       "         ...,\n",
       "         [245, 232, 224],\n",
       "         [242, 230, 220],\n",
       "         [240, 226, 214]],\n",
       " \n",
       "        [[213, 208, 205],\n",
       "         [214, 209, 206],\n",
       "         [210, 207, 203],\n",
       "         ...,\n",
       "         [245, 234, 226],\n",
       "         [243, 231, 221],\n",
       "         [241, 227, 215]],\n",
       " \n",
       "        ...,\n",
       " \n",
       "        [[218, 237, 245],\n",
       "         [218, 237, 245],\n",
       "         [217, 235, 246],\n",
       "         ...,\n",
       "         [232, 227, 226],\n",
       "         [232, 227, 226],\n",
       "         [235, 230, 229]],\n",
       " \n",
       "        [[218, 237, 245],\n",
       "         [217, 236, 244],\n",
       "         [217, 235, 246],\n",
       "         ...,\n",
       "         [232, 227, 226],\n",
       "         [232, 227, 226],\n",
       "         [236, 231, 230]],\n",
       " \n",
       "        [[218, 237, 245],\n",
       "         [218, 237, 245],\n",
       "         [218, 237, 245],\n",
       "         ...,\n",
       "         [231, 226, 225],\n",
       "         [233, 228, 227],\n",
       "         [235, 230, 229]]], dtype=uint8)]"
      ]
     },
     "execution_count": 31,
     "metadata": {},
     "output_type": "execute_result"
    }
   ],
   "source": [
    "top_3_as_array = dogs.to('arrays')[:3] # array_mode=['rgb', 'gray', 'grey']\n",
    "print(f'shape: {np.shape(top_3_as_array)}')\n",
    "top_3_as_array"
   ]
  },
  {
   "cell_type": "markdown",
   "metadata": {},
   "source": [
    "### to Pandas.DataFrame"
   ]
  },
  {
   "cell_type": "code",
   "execution_count": 32,
   "metadata": {},
   "outputs": [
    {
     "name": "stdout",
     "output_type": "stream",
     "text": [
      "shape: (3, 1)\n"
     ]
    },
    {
     "data": {
      "text/html": [
       "<div>\n",
       "<style scoped>\n",
       "    .dataframe tbody tr th:only-of-type {\n",
       "        vertical-align: middle;\n",
       "    }\n",
       "\n",
       "    .dataframe tbody tr th {\n",
       "        vertical-align: top;\n",
       "    }\n",
       "\n",
       "    .dataframe thead th {\n",
       "        text-align: right;\n",
       "    }\n",
       "</style>\n",
       "<table border=\"1\" class=\"dataframe\">\n",
       "  <thead>\n",
       "    <tr style=\"text-align: right;\">\n",
       "      <th></th>\n",
       "      <th>data1578505795709833</th>\n",
       "    </tr>\n",
       "  </thead>\n",
       "  <tbody>\n",
       "    <tr>\n",
       "      <th>0</th>\n",
       "      <td>../cytokinin/cytokinin/tests/mocks/imgs/dog/do...</td>\n",
       "    </tr>\n",
       "    <tr>\n",
       "      <th>1</th>\n",
       "      <td>../cytokinin/cytokinin/tests/mocks/imgs/dog/do...</td>\n",
       "    </tr>\n",
       "    <tr>\n",
       "      <th>2</th>\n",
       "      <td>../cytokinin/cytokinin/tests/mocks/imgs/dog/do...</td>\n",
       "    </tr>\n",
       "  </tbody>\n",
       "</table>\n",
       "</div>"
      ],
      "text/plain": [
       "                                data1578505795709833\n",
       "0  ../cytokinin/cytokinin/tests/mocks/imgs/dog/do...\n",
       "1  ../cytokinin/cytokinin/tests/mocks/imgs/dog/do...\n",
       "2  ../cytokinin/cytokinin/tests/mocks/imgs/dog/do..."
      ]
     },
     "execution_count": 32,
     "metadata": {},
     "output_type": "execute_result"
    }
   ],
   "source": [
    "top_3_as_df = dogs.to('dataframe')[:3]\n",
    "print(f'shape: {np.shape(top_3_as_df)}')\n",
    "top_3_as_df"
   ]
  },
  {
   "cell_type": "markdown",
   "metadata": {},
   "source": [
    "### to Pandas.Series"
   ]
  },
  {
   "cell_type": "code",
   "execution_count": 33,
   "metadata": {},
   "outputs": [
    {
     "name": "stdout",
     "output_type": "stream",
     "text": [
      "shape: (3,)\n"
     ]
    },
    {
     "data": {
      "text/plain": [
       "0    ../cytokinin/cytokinin/tests/mocks/imgs/dog/do...\n",
       "1    ../cytokinin/cytokinin/tests/mocks/imgs/dog/do...\n",
       "2    ../cytokinin/cytokinin/tests/mocks/imgs/dog/do...\n",
       "Name: data1578505795709833, dtype: object"
      ]
     },
     "execution_count": 33,
     "metadata": {},
     "output_type": "execute_result"
    }
   ],
   "source": [
    "top_3_as_series = dogs.to('series')[:3]\n",
    "print(f'shape: {np.shape(top_3_as_series)}')\n",
    "top_3_as_series"
   ]
  },
  {
   "cell_type": "code",
   "execution_count": null,
   "metadata": {},
   "outputs": [],
   "source": []
  }
 ],
 "metadata": {
  "kernelspec": {
   "display_name": "Python 3",
   "language": "python",
   "name": "python3"
  },
  "language_info": {
   "codemirror_mode": {
    "name": "ipython",
    "version": 3
   },
   "file_extension": ".py",
   "mimetype": "text/x-python",
   "name": "python",
   "nbconvert_exporter": "python",
   "pygments_lexer": "ipython3",
   "version": "3.7.5"
  }
 },
 "nbformat": 4,
 "nbformat_minor": 2
}
